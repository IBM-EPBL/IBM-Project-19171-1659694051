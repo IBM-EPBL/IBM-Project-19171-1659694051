{
  "nbformat": 4,
  "nbformat_minor": 0,
  "metadata": {
    "colab": {
      "provenance": []
    },
    "kernelspec": {
      "name": "python3",
      "display_name": "Python 3"
    },
    "language_info": {
      "name": "python"
    }
  },
  "cells": [
    {
      "cell_type": "code",
      "execution_count": 2,
      "metadata": {
        "colab": {
          "base_uri": "https://localhost:8080/"
        },
        "id": "SkEaqzTwv3W0",
        "outputId": "215b2781-fd8d-4faa-9655-80a1b5308a69"
      },
      "outputs": [
        {
          "output_type": "stream",
          "name": "stdout",
          "text": [
            "Archive:  /content/drive/MyDrive/archive.zip\n",
            "  inflating: Dataset/Dataset/test_set/forest/0.48007200_1530881924_final_forest.jpg  \n",
            "  inflating: Dataset/Dataset/test_set/forest/0.64133000_1519374442_forest_deep.jpg  \n",
            "  inflating: Dataset/Dataset/test_set/forest/0.72918000_1559733279_forests1_gettyimages_.jpg  \n",
            "  inflating: Dataset/Dataset/test_set/forest/0.98884800_1554454572_spin.jpg  \n",
            "  inflating: Dataset/Dataset/test_set/forest/01_NeilBurnell_Mystical_photoverticall.jpg  \n",
            "  inflating: Dataset/Dataset/test_set/forest/091318_LH_forest_loss_main_FREE.jpg  \n",
            "  inflating: Dataset/Dataset/test_set/forest/1009821.jpg  \n",
            "  inflating: Dataset/Dataset/test_set/forest/111188170_river_in_the_mountain_forest.jpg  \n",
            "  inflating: Dataset/Dataset/test_set/forest/1170x500_Ireland_web.jpg  \n",
            "  inflating: Dataset/Dataset/test_set/forest/1200px_Mountainarea.jpg  \n",
            "  inflating: Dataset/Dataset/test_set/forest/146019.jpg  \n",
            "  inflating: Dataset/Dataset/test_set/forest/1506697583544.jpg  \n",
            "  inflating: Dataset/Dataset/test_set/forest/1551622076_img_5241.jpg  \n",
            "  inflating: Dataset/Dataset/test_set/forest/1551903255_2942.jpg  \n",
            "  inflating: Dataset/Dataset/test_set/forest/1556508284pexels_photo_1179229.jpeg  \n",
            "  inflating: Dataset/Dataset/test_set/forest/16475617_web1_ForestHealth_VIB_190418_2.jpg  \n",
            "  inflating: Dataset/Dataset/test_set/forest/18435324436_6a20e7fc70_k.jpg  \n",
            "  inflating: Dataset/Dataset/test_set/forest/1_chimp.jpg  \n",
            "  inflating: Dataset/Dataset/test_set/forest/200px_View_of_Lake_Moraine.jpg  \n",
            "  inflating: Dataset/Dataset/test_set/forest/2017_10_12_09_01_56.jpg  \n",
            "  inflating: Dataset/Dataset/test_set/forest/220px_The_forest_near_Blatets__Vinitsa.JPG  \n",
            "  inflating: Dataset/Dataset/test_set/forest/23769_pcbkrdossw_1500310327.jpg  \n",
            "  inflating: Dataset/Dataset/test_set/forest/2E215059_55C7_417B_8DDD693AA6E416B4_source.jpg  \n",
            "  inflating: Dataset/Dataset/test_set/forest/31105585103_4c32392ac1_k.jpg  \n",
            "  inflating: Dataset/Dataset/test_set/forest/381417.jpg  \n",
            "  inflating: Dataset/Dataset/test_set/forest/4632581118_dcfb9ed978_b.jpg.860x0_q70_crop_scale.jpg  \n",
            "  inflating: Dataset/Dataset/test_set/forest/4fe3f4e45d6bb93070989b8bbb77d30e.jpg  \n",
            "  inflating: Dataset/Dataset/test_set/forest/4k_timelapse_heavy_rain_on_mountain_forest_tree_fog_motion_bad_weather_condition_rfift1zh_thumbnail_.png  \n",
            "  inflating: Dataset/Dataset/test_set/forest/5325.jpg  \n",
            "  inflating: Dataset/Dataset/test_set/forest/5472.jpg  \n",
            "  inflating: Dataset/Dataset/test_set/forest/559672101517195076987621071193712n.jpg  \n",
            "  inflating: Dataset/Dataset/test_set/forest/78closer_exterior_view_of_northern_Rocky_Mountain_forest.jpg  \n",
            "  inflating: Dataset/Dataset/test_set/forest/79806645_landscape_of_tall_grass_field_green_mountain_forest.jpg  \n",
            "  inflating: Dataset/Dataset/test_set/forest/7_18_MedicineBowHikingFishing_KL_1319_4003.jpg  \n",
            "  inflating: Dataset/Dataset/test_set/forest/7ece9530_9cf1_11e9_bf3c_4fe6e6438142.jpg  \n",
            "  inflating: Dataset/Dataset/test_set/forest/852554.jpg  \n",
            "  inflating: Dataset/Dataset/test_set/forest/91ErlodmE5L.jpg  \n",
            "  inflating: Dataset/Dataset/test_set/forest/91sALlLjdLL.jpg  \n",
            "  inflating: Dataset/Dataset/test_set/forest/A003_C014_0724EC.0000000.jpg  \n",
            "  inflating: Dataset/Dataset/test_set/forest/Adirondack_Habitats_Mixed_Forest_Barnum_Brook_Trail_Paul_Smiths_VIC_23_May_2012_61.jpg  \n",
            "  inflating: Dataset/Dataset/test_set/forest/Adirondack_Habitats_Mixed_Forest_Jenkins_Mountain_Trail_Paul_Smiths_VIC_12_August_2013_71.jpg  \n",
            "  inflating: Dataset/Dataset/test_set/forest/Almaty_Mountains.jpg  \n",
            "  inflating: Dataset/Dataset/test_set/forest/DSCN8209(1)_250x333.JPG  \n",
            "  inflating: Dataset/Dataset/test_set/forest/DSC_0072_Forest.jpg  \n",
            "  inflating: Dataset/Dataset/test_set/forest/Deciduous_forest.jpg  \n",
            "  inflating: Dataset/Dataset/test_set/forest/Dupont_Forest_Triple_Falls_Rob_Travis_2_1.jpg  \n",
            "  inflating: Dataset/Dataset/test_set/forest/Fall_Trees_Alaskan_Adventure_by_John_Simeone.jpg  \n",
            "  inflating: Dataset/Dataset/test_set/forest/Fallen_e1499694482182.jpg  \n",
            "  inflating: Dataset/Dataset/test_set/forest/_101542074_gettyimages_956391468.jpg  \n",
            "  inflating: Dataset/Dataset/test_set/forest/a.jpg  \n",
            "  inflating: Dataset/Dataset/test_set/forest/acadia_np_622419_High_Res.jpg  \n",
            "  inflating: Dataset/Dataset/test_set/forest/altai_regio_pine_forest_1550x804.jpg  \n",
            "  inflating: Dataset/Dataset/test_set/forest/amazing_green_trees_in_dense_mountain_forest_nature_landscape_in_4k_aerial_view_b7oqfwutg_thumbnail_.png  \n",
            "  inflating: Dataset/Dataset/test_set/forest/aokigaharaforest_1_star.jpg  \n",
            "  inflating: Dataset/Dataset/test_set/forest/appalachian_mtns_forest_usda_srs.jpg  \n",
            "  inflating: Dataset/Dataset/test_set/forest/austria_mountain_forest_landscape_wallpaper_1920x1200.jpg  \n",
            "  inflating: Dataset/Dataset/test_set/forest/bavarian_forest_3385966_1280_1.jpg  \n",
            "  inflating: Dataset/Dataset/test_set/forest/beautiful_green_forest_range_images_picture_photos_wallpaper_download.jpg  \n",
            "  inflating: Dataset/Dataset/test_set/forest/beautiful_morning_mountain_forest_scenery_free_stock_photos_picjumbo_DSC02176.jpg  \n",
            "  inflating: Dataset/Dataset/test_set/forest/beautiful_mountain_forest_wallpaper_1920x1200.jpg  \n",
            "  inflating: Dataset/Dataset/test_set/forest/beech_oak_forest_560.jpg  \n",
            "  inflating: Dataset/Dataset/test_set/forest/britishforest_696483208.jpg  \n",
            "  inflating: Dataset/Dataset/test_set/forest/canva_waterfalls_in_the_mountain_forest__MADR_l3e0W4.jpg  \n",
            "  inflating: Dataset/Dataset/test_set/forest/ce8b73d56bd242eb1f2369fe856f1c63_700.jpg  \n",
            "  inflating: Dataset/Dataset/test_set/forest/cold_daylight_environment_1423600_640x427.jpg  \n",
            "  inflating: Dataset/Dataset/test_set/forest/easternArc.jpg  \n",
            "  inflating: Dataset/Dataset/test_set/forest/em_tiger_mountain_570x284_nc.jpg  \n",
            "  inflating: Dataset/Dataset/test_set/forest/europeslostf.jpg  \n",
            "  inflating: Dataset/Dataset/test_set/forest/fanas_gregorschmucki_2016_28_1_2600x1733.jpg  \n",
            "  inflating: Dataset/Dataset/test_set/forest/fantastic_dark_landscape_of_mountain_forest_in_clouds_fog_or_mist_picture_id688948674.jpg  \n",
            "  inflating: Dataset/Dataset/test_set/forest/fb26e4420f3ae3b12788fffdea0fb132_full.jpg  \n",
            "  inflating: Dataset/Dataset/test_set/forest/file_20180627_112634_8tdgn4.jpg  \n",
            "  inflating: Dataset/Dataset/test_set/with fire/180802_CarrFire_010_large_700x467.jpg  \n",
            "  inflating: Dataset/Dataset/test_set/with fire/19464620_401.jpg  \n",
            "  inflating: Dataset/Dataset/test_set/with fire/599857.jpg  \n",
            "  inflating: Dataset/Dataset/test_set/with fire/Bandipur_fires_2019.jpg  \n",
            "  inflating: Dataset/Dataset/test_set/with fire/FORESTFIRE (1).jpg  \n",
            "  inflating: Dataset/Dataset/test_set/with fire/Fire_2_696x392.jpg  \n",
            "  inflating: Dataset/Dataset/test_set/with fire/Forest_Fire (3).jpg  \n",
            "  inflating: Dataset/Dataset/test_set/with fire/Forest_Fire (4).jpg  \n",
            "  inflating: Dataset/Dataset/test_set/with fire/Forest_fire_MNRF_esize_IMG_6743.jpg  \n",
            "  inflating: Dataset/Dataset/test_set/with fire/GettyImages_482867948.0.jpg  \n",
            "  inflating: Dataset/Dataset/test_set/with fire/GettyImages_862092472_1160x773.jpg  \n",
            "  inflating: Dataset/Dataset/test_set/with fire/How_to_Protect_Your_Home_From_Forest_Fire_1024x588.jpg  \n",
            "  inflating: Dataset/Dataset/test_set/with fire/RED7_May29_1986.jpg  \n",
            "  inflating: Dataset/Dataset/test_set/with fire/The_Rim_Fire_in_the_Stanislaus_National_Forest_near_in_California_began_on_Aug._17__2013_0004.jpg  \n",
            "  inflating: Dataset/Dataset/test_set/with fire/Untitled_design_161_866x487.jpg  \n",
            "  inflating: Dataset/Dataset/test_set/with fire/Uttarakhand_forest_fire.jpeg  \n",
            "  inflating: Dataset/Dataset/test_set/with fire/Washington_DNR_Chiwaukum_WildFires_2014_2015_WA_DNR_cropped.jpg  \n",
            "  inflating: Dataset/Dataset/test_set/with fire/Wild_fires.jpg  \n",
            "  inflating: Dataset/Dataset/test_set/with fire/X80IR0GYSsG6RaiLcsXX.jpg  \n",
            "  inflating: Dataset/Dataset/test_set/with fire/b2683a16be44f230a90f50bb944315e994b43042e43df798bb4feaf27e0f8bc8.jpg  \n",
            "  inflating: Dataset/Dataset/test_set/with fire/climate_change_forest_fire.jpeg  \n",
            "  inflating: Dataset/Dataset/test_set/with fire/cumming_forest_fires.jpg  \n",
            "  inflating: Dataset/Dataset/test_set/with fire/deerfire_high_res_edit.jpg  \n",
            "  inflating: Dataset/Dataset/test_set/with fire/defense_large.jpg  \n",
            "  inflating: Dataset/Dataset/test_set/with fire/f90_fire_1168x657.jpg  \n",
            "  inflating: Dataset/Dataset/test_set/with fire/file_20190308_155532_1nvts27.jpg  \n",
            "  inflating: Dataset/Dataset/test_set/with fire/forest_fire_0.jpg  \n",
            "  inflating: Dataset/Dataset/test_set/with fire/forest_fire_2268729_1280.jpg  \n",
            "  inflating: Dataset/Dataset/test_set/with fire/forest_fire_at_bandipur_tiger_reserve_04f0dd5e_3919_11e9_9798_f85edb62de22.jpg  \n",
            "  inflating: Dataset/Dataset/test_set/with fire/forestfire.jpg  \n",
            "  inflating: Dataset/Dataset/test_set/with fire/forestfire_kApH__621x414_LiveMint.jpg  \n",
            "  inflating: Dataset/Dataset/test_set/with fire/growing_risk_future_wildfires_adobestock_199370851.jpeg  \n",
            "  inflating: Dataset/Dataset/test_set/with fire/header_hypermaritime_fire.jpg  \n",
            "  inflating: Dataset/Dataset/test_set/with fire/horseshoe_bay_fire.jpg  \n",
            "  inflating: Dataset/Dataset/test_set/with fire/image.jpg  \n",
            "  inflating: Dataset/Dataset/test_set/with fire/in_forestfire1_(1).jpg  \n",
            "  inflating: Dataset/Dataset/test_set/with fire/in_forestfires_shutter.jpg  \n",
            "  inflating: Dataset/Dataset/test_set/with fire/in_forestfiress_(1).jpg  \n",
            "  inflating: Dataset/Dataset/test_set/with fire/korea_forest_fire_4.jpg  \n",
            "  inflating: Dataset/Dataset/test_set/with fire/louisiana_forest_fire.jpg  \n",
            "  inflating: Dataset/Dataset/test_set/with fire/maxresdefault.jpg  \n",
            "  inflating: Dataset/Dataset/test_set/with fire/photo_1555842027_660d9d8df55b.jpg  \n",
            "  inflating: Dataset/Dataset/test_set/with fire/ring_of_fire_bailey_colorado_rocky_mountain_forest_wildfire_picture_id157384116.jpg  \n",
            "  inflating: Dataset/Dataset/test_set/with fire/rsz_1fire_pix_accumulation_640_1_2.jpg  \n",
            "  inflating: Dataset/Dataset/test_set/with fire/shutterstock_48032821.jpg  \n",
            "  inflating: Dataset/Dataset/test_set/with fire/shutterstock_710588224.jpg  \n",
            "  inflating: Dataset/Dataset/test_set/with fire/skynews_ashdown_forest_fire_4653702.jpg  \n",
            "  inflating: Dataset/Dataset/test_set/with fire/uttarakhand_forest_fire_750x500.jpg  \n",
            "  inflating: Dataset/Dataset/test_set/with fire/wildfire_header_image_1024x1024.jpg  \n",
            "  inflating: Dataset/Dataset/train_set/forest/with_fire (1).gif  \n",
            "  inflating: Dataset/Dataset/train_set/forest/with_fire (1).jpeg  \n",
            "  inflating: Dataset/Dataset/train_set/forest/with_fire (1).jpg  \n",
            "  inflating: Dataset/Dataset/train_set/forest/with_fire (1).png  \n",
            "  inflating: Dataset/Dataset/train_set/forest/with_fire (10).jpeg  \n",
            "  inflating: Dataset/Dataset/train_set/forest/with_fire (10).jpg  \n",
            "  inflating: Dataset/Dataset/train_set/forest/with_fire (100).jpg  \n",
            "  inflating: Dataset/Dataset/train_set/forest/with_fire (101).jpg  \n",
            "  inflating: Dataset/Dataset/train_set/forest/with_fire (102).jpg  \n",
            "  inflating: Dataset/Dataset/train_set/forest/with_fire (103).jpg  \n",
            "  inflating: Dataset/Dataset/train_set/forest/with_fire (104).jpg  \n",
            "  inflating: Dataset/Dataset/train_set/forest/with_fire (105).jpg  \n",
            "  inflating: Dataset/Dataset/train_set/forest/with_fire (106).jpg  \n",
            "  inflating: Dataset/Dataset/train_set/forest/with_fire (107).jpg  \n",
            "  inflating: Dataset/Dataset/train_set/forest/with_fire (108).jpg  \n",
            "  inflating: Dataset/Dataset/train_set/forest/with_fire (109).jpg  \n",
            "  inflating: Dataset/Dataset/train_set/forest/with_fire (11).jpg  \n",
            "  inflating: Dataset/Dataset/train_set/forest/with_fire (110).jpg  \n",
            "  inflating: Dataset/Dataset/train_set/forest/with_fire (111).jpg  \n",
            "  inflating: Dataset/Dataset/train_set/forest/with_fire (112).jpg  \n",
            "  inflating: Dataset/Dataset/train_set/forest/with_fire (113).jpg  \n",
            "  inflating: Dataset/Dataset/train_set/forest/with_fire (114).jpg  \n",
            "  inflating: Dataset/Dataset/train_set/forest/with_fire (115).jpg  \n",
            "  inflating: Dataset/Dataset/train_set/forest/with_fire (116).jpg  \n",
            "  inflating: Dataset/Dataset/train_set/forest/with_fire (117).jpg  \n",
            "  inflating: Dataset/Dataset/train_set/forest/with_fire (118).jpg  \n",
            "  inflating: Dataset/Dataset/train_set/forest/with_fire (119).jpg  \n",
            "  inflating: Dataset/Dataset/train_set/forest/with_fire (12).jpg  \n",
            "  inflating: Dataset/Dataset/train_set/forest/with_fire (120).jpg  \n",
            "  inflating: Dataset/Dataset/train_set/forest/with_fire (121).jpg  \n",
            "  inflating: Dataset/Dataset/train_set/forest/with_fire (122).jpg  \n",
            "  inflating: Dataset/Dataset/train_set/forest/with_fire (123).jpg  \n",
            "  inflating: Dataset/Dataset/train_set/forest/with_fire (124).jpg  \n",
            "  inflating: Dataset/Dataset/train_set/forest/with_fire (125).jpg  \n",
            "  inflating: Dataset/Dataset/train_set/forest/with_fire (126).jpg  \n",
            "  inflating: Dataset/Dataset/train_set/forest/with_fire (127).jpg  \n",
            "  inflating: Dataset/Dataset/train_set/forest/with_fire (128).jpg  \n",
            "  inflating: Dataset/Dataset/train_set/forest/with_fire (129).jpg  \n",
            "  inflating: Dataset/Dataset/train_set/forest/with_fire (13).jpg  \n",
            "  inflating: Dataset/Dataset/train_set/forest/with_fire (130).jpg  \n",
            "  inflating: Dataset/Dataset/train_set/forest/with_fire (131).jpg  \n",
            "  inflating: Dataset/Dataset/train_set/forest/with_fire (132).jpg  \n",
            "  inflating: Dataset/Dataset/train_set/forest/with_fire (133).jpg  \n",
            "  inflating: Dataset/Dataset/train_set/forest/with_fire (134).jpg  \n",
            "  inflating: Dataset/Dataset/train_set/forest/with_fire (135).jpg  \n",
            "  inflating: Dataset/Dataset/train_set/forest/with_fire (136).jpg  \n",
            "  inflating: Dataset/Dataset/train_set/forest/with_fire (137).jpg  \n",
            "  inflating: Dataset/Dataset/train_set/forest/with_fire (138).jpg  \n",
            "  inflating: Dataset/Dataset/train_set/forest/with_fire (139).jpg  \n",
            "  inflating: Dataset/Dataset/train_set/forest/with_fire (14).jpg  \n",
            "  inflating: Dataset/Dataset/train_set/forest/with_fire (140).jpg  \n",
            "  inflating: Dataset/Dataset/train_set/forest/with_fire (141).jpg  \n",
            "  inflating: Dataset/Dataset/train_set/forest/with_fire (142).jpg  \n",
            "  inflating: Dataset/Dataset/train_set/forest/with_fire (143).jpg  \n",
            "  inflating: Dataset/Dataset/train_set/forest/with_fire (144).jpg  \n",
            "  inflating: Dataset/Dataset/train_set/forest/with_fire (145).jpg  \n",
            "  inflating: Dataset/Dataset/train_set/forest/with_fire (146).jpg  \n",
            "  inflating: Dataset/Dataset/train_set/forest/with_fire (147).JPG  \n",
            "  inflating: Dataset/Dataset/train_set/forest/with_fire (148).jpg  \n",
            "  inflating: Dataset/Dataset/train_set/forest/with_fire (149).jpg  \n",
            "  inflating: Dataset/Dataset/train_set/forest/with_fire (15).jpg  \n",
            "  inflating: Dataset/Dataset/train_set/forest/with_fire (150).jpg  \n",
            "  inflating: Dataset/Dataset/train_set/forest/with_fire (151).jpg  \n",
            "  inflating: Dataset/Dataset/train_set/forest/with_fire (152).jpg  \n",
            "  inflating: Dataset/Dataset/train_set/forest/with_fire (153).jpg  \n",
            "  inflating: Dataset/Dataset/train_set/forest/with_fire (154).jpg  \n",
            "  inflating: Dataset/Dataset/train_set/forest/with_fire (155).jpg  \n",
            "  inflating: Dataset/Dataset/train_set/forest/with_fire (156).jpg  \n",
            "  inflating: Dataset/Dataset/train_set/forest/with_fire (157).jpg  \n",
            "  inflating: Dataset/Dataset/train_set/forest/with_fire (158).jpg  \n",
            "  inflating: Dataset/Dataset/train_set/forest/with_fire (159).jpg  \n",
            "  inflating: Dataset/Dataset/train_set/forest/with_fire (16).jpg  \n",
            "  inflating: Dataset/Dataset/train_set/forest/with_fire (160).JPG  \n",
            "  inflating: Dataset/Dataset/train_set/forest/with_fire (161).jpg  \n",
            "  inflating: Dataset/Dataset/train_set/forest/with_fire (162).jpg  \n",
            "  inflating: Dataset/Dataset/train_set/forest/with_fire (163).jpg  \n",
            "  inflating: Dataset/Dataset/train_set/forest/with_fire (164).jpg  \n",
            "  inflating: Dataset/Dataset/train_set/forest/with_fire (165).JPG  \n",
            "  inflating: Dataset/Dataset/train_set/forest/with_fire (166).jpg  \n",
            "  inflating: Dataset/Dataset/train_set/forest/with_fire (167).jpg  \n",
            "  inflating: Dataset/Dataset/train_set/forest/with_fire (168).jpg  \n",
            "  inflating: Dataset/Dataset/train_set/forest/with_fire (169).jpg  \n",
            "  inflating: Dataset/Dataset/train_set/forest/with_fire (17).jpg  \n",
            "  inflating: Dataset/Dataset/train_set/forest/with_fire (170).jpg  \n",
            "  inflating: Dataset/Dataset/train_set/forest/with_fire (171).jpg  \n",
            "  inflating: Dataset/Dataset/train_set/forest/with_fire (172).jpg  \n",
            "  inflating: Dataset/Dataset/train_set/forest/with_fire (173).jpg  \n",
            "  inflating: Dataset/Dataset/train_set/forest/with_fire (174).jpg  \n",
            "  inflating: Dataset/Dataset/train_set/forest/with_fire (175).jpg  \n",
            "  inflating: Dataset/Dataset/train_set/forest/with_fire (176).jpg  \n",
            "  inflating: Dataset/Dataset/train_set/forest/with_fire (177).jpg  \n",
            "  inflating: Dataset/Dataset/train_set/forest/with_fire (178).jpg  \n",
            "  inflating: Dataset/Dataset/train_set/forest/with_fire (179).jpg  \n",
            "  inflating: Dataset/Dataset/train_set/forest/with_fire (18).jpg  \n",
            "  inflating: Dataset/Dataset/train_set/forest/with_fire (180).jpg  \n",
            "  inflating: Dataset/Dataset/train_set/forest/with_fire (181).jpg  \n",
            "  inflating: Dataset/Dataset/train_set/forest/with_fire (182).jpg  \n",
            "  inflating: Dataset/Dataset/train_set/forest/with_fire (183).jpg  \n",
            "  inflating: Dataset/Dataset/train_set/forest/with_fire (184).jpg  \n",
            "  inflating: Dataset/Dataset/train_set/forest/with_fire (185).jpg  \n",
            "  inflating: Dataset/Dataset/train_set/forest/with_fire (186).jpg  \n",
            "  inflating: Dataset/Dataset/train_set/forest/with_fire (187).jpg  \n",
            "  inflating: Dataset/Dataset/train_set/forest/with_fire (188).jpg  \n",
            "  inflating: Dataset/Dataset/train_set/forest/with_fire (189).jpg  \n",
            "  inflating: Dataset/Dataset/train_set/forest/with_fire (19).jpg  \n",
            "  inflating: Dataset/Dataset/train_set/forest/with_fire (190).jpg  \n",
            "  inflating: Dataset/Dataset/train_set/forest/with_fire (191).jpg  \n",
            "  inflating: Dataset/Dataset/train_set/forest/with_fire (192).jpg  \n",
            "  inflating: Dataset/Dataset/train_set/forest/with_fire (193).jpg  \n",
            "  inflating: Dataset/Dataset/train_set/forest/with_fire (194).jpg  \n",
            "  inflating: Dataset/Dataset/train_set/forest/with_fire (195).jpg  \n",
            "  inflating: Dataset/Dataset/train_set/forest/with_fire (196).jpg  \n",
            "  inflating: Dataset/Dataset/train_set/forest/with_fire (197).jpg  \n",
            "  inflating: Dataset/Dataset/train_set/forest/with_fire (198).jpg  \n",
            "  inflating: Dataset/Dataset/train_set/forest/with_fire (199).jpg  \n",
            "  inflating: Dataset/Dataset/train_set/forest/with_fire (2).jpeg  \n",
            "  inflating: Dataset/Dataset/train_set/forest/with_fire (2).jpg  \n",
            "  inflating: Dataset/Dataset/train_set/forest/with_fire (2).png  \n",
            "  inflating: Dataset/Dataset/train_set/forest/with_fire (20).jpg  \n",
            "  inflating: Dataset/Dataset/train_set/forest/with_fire (200).jpg  \n",
            "  inflating: Dataset/Dataset/train_set/forest/with_fire (201).jpg  \n",
            "  inflating: Dataset/Dataset/train_set/forest/with_fire (202).jpg  \n",
            "  inflating: Dataset/Dataset/train_set/forest/with_fire (203).jpg  \n",
            "  inflating: Dataset/Dataset/train_set/forest/with_fire (204).jpg  \n",
            "  inflating: Dataset/Dataset/train_set/forest/with_fire (205).jpg  \n",
            "  inflating: Dataset/Dataset/train_set/forest/with_fire (206).jpg  \n",
            "  inflating: Dataset/Dataset/train_set/forest/with_fire (207).jpg  \n",
            "  inflating: Dataset/Dataset/train_set/forest/with_fire (208).jpg  \n",
            "  inflating: Dataset/Dataset/train_set/forest/with_fire (209).jpg  \n",
            "  inflating: Dataset/Dataset/train_set/forest/with_fire (21).jpg  \n",
            "  inflating: Dataset/Dataset/train_set/forest/with_fire (210).jpg  \n",
            "  inflating: Dataset/Dataset/train_set/forest/with_fire (211).jpg  \n",
            "  inflating: Dataset/Dataset/train_set/forest/with_fire (212).jpg  \n",
            "  inflating: Dataset/Dataset/train_set/forest/with_fire (213).jpg  \n",
            "  inflating: Dataset/Dataset/train_set/forest/with_fire (214).jpg  \n",
            "  inflating: Dataset/Dataset/train_set/forest/with_fire (215).jpg  \n",
            "  inflating: Dataset/Dataset/train_set/forest/with_fire (216).jpg  \n",
            "  inflating: Dataset/Dataset/train_set/forest/with_fire (217).jpg  \n",
            "  inflating: Dataset/Dataset/train_set/forest/with_fire (218).jpg  \n",
            "  inflating: Dataset/Dataset/train_set/forest/with_fire (219).jpg  \n",
            "  inflating: Dataset/Dataset/train_set/forest/with_fire (22).jpg  \n",
            "  inflating: Dataset/Dataset/train_set/forest/with_fire (220).JPG  \n",
            "  inflating: Dataset/Dataset/train_set/forest/with_fire (221).jpg  \n",
            "  inflating: Dataset/Dataset/train_set/forest/with_fire (222).jpg  \n",
            "  inflating: Dataset/Dataset/train_set/forest/with_fire (223).jpg  \n",
            "  inflating: Dataset/Dataset/train_set/forest/with_fire (224).jpg  \n",
            "  inflating: Dataset/Dataset/train_set/forest/with_fire (225).jpg  \n",
            "  inflating: Dataset/Dataset/train_set/forest/with_fire (226).jpg  \n",
            "  inflating: Dataset/Dataset/train_set/forest/with_fire (227).jpg  \n",
            "  inflating: Dataset/Dataset/train_set/forest/with_fire (228).jpg  \n",
            "  inflating: Dataset/Dataset/train_set/forest/with_fire (229).jpg  \n",
            "  inflating: Dataset/Dataset/train_set/forest/with_fire (23).jpg  \n",
            "  inflating: Dataset/Dataset/train_set/forest/with_fire (230).jpg  \n",
            "  inflating: Dataset/Dataset/train_set/forest/with_fire (231).jpg  \n",
            "  inflating: Dataset/Dataset/train_set/forest/with_fire (232).jpg  \n",
            "  inflating: Dataset/Dataset/train_set/forest/with_fire (233).jpg  \n",
            "  inflating: Dataset/Dataset/train_set/forest/with_fire (234).jpg  \n",
            "  inflating: Dataset/Dataset/train_set/forest/with_fire (235).jpg  \n",
            "  inflating: Dataset/Dataset/train_set/forest/with_fire (236).jpg  \n",
            "  inflating: Dataset/Dataset/train_set/forest/with_fire (237).jpg  \n",
            "  inflating: Dataset/Dataset/train_set/forest/with_fire (238).jpg  \n",
            "  inflating: Dataset/Dataset/train_set/forest/with_fire (239).jpg  \n",
            "  inflating: Dataset/Dataset/train_set/forest/with_fire (24).jpg  \n",
            "  inflating: Dataset/Dataset/train_set/forest/with_fire (240).jpg  \n",
            "  inflating: Dataset/Dataset/train_set/forest/with_fire (241).jpg  \n",
            "  inflating: Dataset/Dataset/train_set/forest/with_fire (242).jpg  \n",
            "  inflating: Dataset/Dataset/train_set/forest/with_fire (243).jpg  \n",
            "  inflating: Dataset/Dataset/train_set/forest/with_fire (244).jpg  \n",
            "  inflating: Dataset/Dataset/train_set/forest/with_fire (245).jpg  \n",
            "  inflating: Dataset/Dataset/train_set/forest/with_fire (246).jpg  \n",
            "  inflating: Dataset/Dataset/train_set/forest/with_fire (247).jpg  \n",
            "  inflating: Dataset/Dataset/train_set/forest/with_fire (248).jpg  \n",
            "  inflating: Dataset/Dataset/train_set/forest/with_fire (249).jpg  \n",
            "  inflating: Dataset/Dataset/train_set/forest/with_fire (25).jpg  \n",
            "  inflating: Dataset/Dataset/train_set/forest/with_fire (250).jpg  \n",
            "  inflating: Dataset/Dataset/train_set/forest/with_fire (251).jpg  \n",
            "  inflating: Dataset/Dataset/train_set/forest/with_fire (252).jpg  \n",
            "  inflating: Dataset/Dataset/train_set/forest/with_fire (253).jpg  \n",
            "  inflating: Dataset/Dataset/train_set/forest/with_fire (254).jpg  \n",
            "  inflating: Dataset/Dataset/train_set/forest/with_fire (255).jpg  \n",
            "  inflating: Dataset/Dataset/train_set/forest/with_fire (256).jpg  \n",
            "  inflating: Dataset/Dataset/train_set/forest/with_fire (257).jpg  \n",
            "  inflating: Dataset/Dataset/train_set/forest/with_fire (258).jpg  \n",
            "  inflating: Dataset/Dataset/train_set/forest/with_fire (259).jpg  \n",
            "  inflating: Dataset/Dataset/train_set/forest/with_fire (26).jpg  \n",
            "  inflating: Dataset/Dataset/train_set/forest/with_fire (260).jpg  \n",
            "  inflating: Dataset/Dataset/train_set/forest/with_fire (261).jpg  \n",
            "  inflating: Dataset/Dataset/train_set/forest/with_fire (27).jpg  \n",
            "  inflating: Dataset/Dataset/train_set/forest/with_fire (28).jpg  \n",
            "  inflating: Dataset/Dataset/train_set/forest/with_fire (29).jpg  \n",
            "  inflating: Dataset/Dataset/train_set/forest/with_fire (3).jpeg  \n",
            "  inflating: Dataset/Dataset/train_set/forest/with_fire (3).jpg  \n",
            "  inflating: Dataset/Dataset/train_set/forest/with_fire (3).png  \n",
            "  inflating: Dataset/Dataset/train_set/forest/with_fire (30).jpg  \n",
            "  inflating: Dataset/Dataset/train_set/forest/with_fire (31).jpg  \n",
            "  inflating: Dataset/Dataset/train_set/forest/with_fire (32).jpg  \n",
            "  inflating: Dataset/Dataset/train_set/forest/with_fire (33).jpg  \n",
            "  inflating: Dataset/Dataset/train_set/forest/with_fire (34).jpg  \n",
            "  inflating: Dataset/Dataset/train_set/forest/with_fire (35).jpg  \n",
            "  inflating: Dataset/Dataset/train_set/forest/with_fire (36).jpg  \n",
            "  inflating: Dataset/Dataset/train_set/forest/with_fire (37).jpg  \n",
            "  inflating: Dataset/Dataset/train_set/forest/with_fire (38).jpg  \n",
            "  inflating: Dataset/Dataset/train_set/forest/with_fire (39).jpg  \n",
            "  inflating: Dataset/Dataset/train_set/forest/with_fire (4).jpeg  \n",
            "  inflating: Dataset/Dataset/train_set/forest/with_fire (4).jpg  \n",
            "  inflating: Dataset/Dataset/train_set/forest/with_fire (4).png  \n",
            "  inflating: Dataset/Dataset/train_set/forest/with_fire (40).jpg  \n",
            "  inflating: Dataset/Dataset/train_set/forest/with_fire (41).jpg  \n",
            "  inflating: Dataset/Dataset/train_set/forest/with_fire (42).jpg  \n",
            "  inflating: Dataset/Dataset/train_set/forest/with_fire (43).jpg  \n",
            "  inflating: Dataset/Dataset/train_set/forest/with_fire (44).jpg  \n",
            "  inflating: Dataset/Dataset/train_set/forest/with_fire (45).jpg  \n",
            "  inflating: Dataset/Dataset/train_set/forest/with_fire (46).jpg  \n",
            "  inflating: Dataset/Dataset/train_set/forest/with_fire (47).jpg  \n",
            "  inflating: Dataset/Dataset/train_set/forest/with_fire (48).jpg  \n",
            "  inflating: Dataset/Dataset/train_set/forest/with_fire (49).jpg  \n",
            "  inflating: Dataset/Dataset/train_set/forest/with_fire (5).jpeg  \n",
            "  inflating: Dataset/Dataset/train_set/forest/with_fire (5).jpg  \n",
            "  inflating: Dataset/Dataset/train_set/forest/with_fire (5).png  \n",
            "  inflating: Dataset/Dataset/train_set/forest/with_fire (50).jpg  \n",
            "  inflating: Dataset/Dataset/train_set/forest/with_fire (51).jpg  \n",
            "  inflating: Dataset/Dataset/train_set/forest/with_fire (52).jpg  \n",
            "  inflating: Dataset/Dataset/train_set/forest/with_fire (53).jpg  \n",
            "  inflating: Dataset/Dataset/train_set/forest/with_fire (54).jpg  \n",
            "  inflating: Dataset/Dataset/train_set/forest/with_fire (55).jpg  \n",
            "  inflating: Dataset/Dataset/train_set/forest/with_fire (56).jpg  \n",
            "  inflating: Dataset/Dataset/train_set/forest/with_fire (57).jpg  \n",
            "  inflating: Dataset/Dataset/train_set/forest/with_fire (58).jpg  \n",
            "  inflating: Dataset/Dataset/train_set/forest/with_fire (59).bmp  \n",
            "  inflating: Dataset/Dataset/train_set/forest/with_fire (59).jpg  \n",
            "  inflating: Dataset/Dataset/train_set/forest/with_fire (6).jpeg  \n",
            "  inflating: Dataset/Dataset/train_set/forest/with_fire (6).jpg  \n",
            "  inflating: Dataset/Dataset/train_set/forest/with_fire (6).png  \n",
            "  inflating: Dataset/Dataset/train_set/forest/with_fire (60).jpg  \n",
            "  inflating: Dataset/Dataset/train_set/forest/with_fire (61).jpg  \n",
            "  inflating: Dataset/Dataset/train_set/forest/with_fire (62).jpg  \n",
            "  inflating: Dataset/Dataset/train_set/forest/with_fire (63).jpg  \n",
            "  inflating: Dataset/Dataset/train_set/forest/with_fire (64).jpg  \n",
            "  inflating: Dataset/Dataset/train_set/forest/with_fire (65).jpg  \n",
            "  inflating: Dataset/Dataset/train_set/forest/with_fire (66).jpg  \n",
            "  inflating: Dataset/Dataset/train_set/forest/with_fire (67).jpg  \n",
            "  inflating: Dataset/Dataset/train_set/forest/with_fire (68).jpg  \n",
            "  inflating: Dataset/Dataset/train_set/forest/with_fire (69).jpg  \n",
            "  inflating: Dataset/Dataset/train_set/forest/with_fire (7).jpeg  \n",
            "  inflating: Dataset/Dataset/train_set/forest/with_fire (7).jpg  \n",
            "  inflating: Dataset/Dataset/train_set/forest/with_fire (7).png  \n",
            "  inflating: Dataset/Dataset/train_set/forest/with_fire (70).jpg  \n",
            "  inflating: Dataset/Dataset/train_set/forest/with_fire (71).jpg  \n",
            "  inflating: Dataset/Dataset/train_set/forest/with_fire (72).jpg  \n",
            "  inflating: Dataset/Dataset/train_set/forest/with_fire (73).jpg  \n",
            "  inflating: Dataset/Dataset/train_set/forest/with_fire (74).jpg  \n",
            "  inflating: Dataset/Dataset/train_set/forest/with_fire (75).jpg  \n",
            "  inflating: Dataset/Dataset/train_set/forest/with_fire (76).jpg  \n",
            "  inflating: Dataset/Dataset/train_set/forest/with_fire (77).jpg  \n",
            "  inflating: Dataset/Dataset/train_set/forest/with_fire (78).jpg  \n",
            "  inflating: Dataset/Dataset/train_set/forest/with_fire (79).jpg  \n",
            "  inflating: Dataset/Dataset/train_set/forest/with_fire (8).jpeg  \n",
            "  inflating: Dataset/Dataset/train_set/forest/with_fire (8).jpg  \n",
            "  inflating: Dataset/Dataset/train_set/forest/with_fire (8).png  \n",
            "  inflating: Dataset/Dataset/train_set/forest/with_fire (80).jpg  \n",
            "  inflating: Dataset/Dataset/train_set/forest/with_fire (81).jpg  \n",
            "  inflating: Dataset/Dataset/train_set/forest/with_fire (82).jpg  \n",
            "  inflating: Dataset/Dataset/train_set/forest/with_fire (83).jpg  \n",
            "  inflating: Dataset/Dataset/train_set/forest/with_fire (84).jpg  \n",
            "  inflating: Dataset/Dataset/train_set/forest/with_fire (85).jpg  \n",
            "  inflating: Dataset/Dataset/train_set/forest/with_fire (86).jpg  \n",
            "  inflating: Dataset/Dataset/train_set/forest/with_fire (87).jpg  \n",
            "  inflating: Dataset/Dataset/train_set/forest/with_fire (88).jpg  \n",
            "  inflating: Dataset/Dataset/train_set/forest/with_fire (89).jpg  \n",
            "  inflating: Dataset/Dataset/train_set/forest/with_fire (9).jpeg  \n",
            "  inflating: Dataset/Dataset/train_set/forest/with_fire (9).jpg  \n",
            "  inflating: Dataset/Dataset/train_set/forest/with_fire (9).png  \n",
            "  inflating: Dataset/Dataset/train_set/forest/with_fire (90).jpg  \n",
            "  inflating: Dataset/Dataset/train_set/forest/with_fire (91).JPG  \n",
            "  inflating: Dataset/Dataset/train_set/forest/with_fire (92).jpg  \n",
            "  inflating: Dataset/Dataset/train_set/forest/with_fire (93).jpg  \n",
            "  inflating: Dataset/Dataset/train_set/forest/with_fire (94).jpg  \n",
            "  inflating: Dataset/Dataset/train_set/forest/with_fire (95).jpg  \n",
            "  inflating: Dataset/Dataset/train_set/forest/with_fire (96).jpg  \n",
            "  inflating: Dataset/Dataset/train_set/forest/with_fire (97).jpg  \n",
            "  inflating: Dataset/Dataset/train_set/forest/with_fire (98).jpg  \n",
            "  inflating: Dataset/Dataset/train_set/forest/with_fire (99).jpg  \n",
            "  inflating: Dataset/Dataset/train_set/with fire/with fire (1).png  \n",
            "  inflating: Dataset/Dataset/train_set/with fire/with fire (10).jpg  \n",
            "  inflating: Dataset/Dataset/train_set/with fire/with fire (100).jpg  \n",
            "  inflating: Dataset/Dataset/train_set/with fire/with fire (101).jpg  \n",
            "  inflating: Dataset/Dataset/train_set/with fire/with fire (102).jpg  \n",
            "  inflating: Dataset/Dataset/train_set/with fire/with fire (103).jpg  \n",
            "  inflating: Dataset/Dataset/train_set/with fire/with fire (104).jpg  \n",
            "  inflating: Dataset/Dataset/train_set/with fire/with fire (105).jpg  \n",
            "  inflating: Dataset/Dataset/train_set/with fire/with fire (106).jpg  \n",
            "  inflating: Dataset/Dataset/train_set/with fire/with fire (107).jpg  \n",
            "  inflating: Dataset/Dataset/train_set/with fire/with fire (108).jpg  \n",
            "  inflating: Dataset/Dataset/train_set/with fire/with fire (109).jpg  \n",
            "  inflating: Dataset/Dataset/train_set/with fire/with fire (11).jpg  \n",
            "  inflating: Dataset/Dataset/train_set/with fire/with fire (110).jpg  \n",
            "  inflating: Dataset/Dataset/train_set/with fire/with fire (111).jpg  \n",
            "  inflating: Dataset/Dataset/train_set/with fire/with fire (112).jpg  \n",
            "  inflating: Dataset/Dataset/train_set/with fire/with fire (113).jpg  \n",
            "  inflating: Dataset/Dataset/train_set/with fire/with fire (114).jpg  \n",
            "  inflating: Dataset/Dataset/train_set/with fire/with fire (115).jpg  \n",
            "  inflating: Dataset/Dataset/train_set/with fire/with fire (116).jpg  \n",
            "  inflating: Dataset/Dataset/train_set/with fire/with fire (117).jpg  \n",
            "  inflating: Dataset/Dataset/train_set/with fire/with fire (118).jpg  \n",
            "  inflating: Dataset/Dataset/train_set/with fire/with fire (119).jpg  \n",
            "  inflating: Dataset/Dataset/train_set/with fire/with fire (12).jpg  \n",
            "  inflating: Dataset/Dataset/train_set/with fire/with fire (120).jpg  \n",
            "  inflating: Dataset/Dataset/train_set/with fire/with fire (121).jpg  \n",
            "  inflating: Dataset/Dataset/train_set/with fire/with fire (122).jpg  \n",
            "  inflating: Dataset/Dataset/train_set/with fire/with fire (123).jpg  \n",
            "  inflating: Dataset/Dataset/train_set/with fire/with fire (124).jpg  \n",
            "  inflating: Dataset/Dataset/train_set/with fire/with fire (125).jpg  \n",
            "  inflating: Dataset/Dataset/train_set/with fire/with fire (126).jpg  \n",
            "  inflating: Dataset/Dataset/train_set/with fire/with fire (127).jpg  \n",
            "  inflating: Dataset/Dataset/train_set/with fire/with fire (128).jpg  \n",
            "  inflating: Dataset/Dataset/train_set/with fire/with fire (129).jpg  \n",
            "  inflating: Dataset/Dataset/train_set/with fire/with fire (13).jpg  \n",
            "  inflating: Dataset/Dataset/train_set/with fire/with fire (130).jpg  \n",
            "  inflating: Dataset/Dataset/train_set/with fire/with fire (131).jpg  \n",
            "  inflating: Dataset/Dataset/train_set/with fire/with fire (132).jpg  \n",
            "  inflating: Dataset/Dataset/train_set/with fire/with fire (133).jpg  \n",
            "  inflating: Dataset/Dataset/train_set/with fire/with fire (134).jpg  \n",
            "  inflating: Dataset/Dataset/train_set/with fire/with fire (135).jpg  \n",
            "  inflating: Dataset/Dataset/train_set/with fire/with fire (136).jpg  \n",
            "  inflating: Dataset/Dataset/train_set/with fire/with fire (137).jpg  \n",
            "  inflating: Dataset/Dataset/train_set/with fire/with fire (138).jpg  \n",
            "  inflating: Dataset/Dataset/train_set/with fire/with fire (139).jpg  \n",
            "  inflating: Dataset/Dataset/train_set/with fire/with fire (14).jpg  \n",
            "  inflating: Dataset/Dataset/train_set/with fire/with fire (140).jpg  \n",
            "  inflating: Dataset/Dataset/train_set/with fire/with fire (141).jpg  \n",
            "  inflating: Dataset/Dataset/train_set/with fire/with fire (142).jpg  \n",
            "  inflating: Dataset/Dataset/train_set/with fire/with fire (143).jpg  \n",
            "  inflating: Dataset/Dataset/train_set/with fire/with fire (144).jpg  \n",
            "  inflating: Dataset/Dataset/train_set/with fire/with fire (145).jpg  \n",
            "  inflating: Dataset/Dataset/train_set/with fire/with fire (146).jpg  \n",
            "  inflating: Dataset/Dataset/train_set/with fire/with fire (147).jpg  \n",
            "  inflating: Dataset/Dataset/train_set/with fire/with fire (148).jpg  \n",
            "  inflating: Dataset/Dataset/train_set/with fire/with fire (149).jpg  \n",
            "  inflating: Dataset/Dataset/train_set/with fire/with fire (15).jpg  \n",
            "  inflating: Dataset/Dataset/train_set/with fire/with fire (16).jpg  \n",
            "  inflating: Dataset/Dataset/train_set/with fire/with fire (17).jpg  \n",
            "  inflating: Dataset/Dataset/train_set/with fire/with fire (18).jpg  \n",
            "  inflating: Dataset/Dataset/train_set/with fire/with fire (19).jpg  \n",
            "  inflating: Dataset/Dataset/train_set/with fire/with fire (2).jpeg  \n",
            "  inflating: Dataset/Dataset/train_set/with fire/with fire (2).jpg  \n",
            "  inflating: Dataset/Dataset/train_set/with fire/with fire (2).png  \n",
            "  inflating: Dataset/Dataset/train_set/with fire/with fire (20).jpg  \n",
            "  inflating: Dataset/Dataset/train_set/with fire/with fire (21).jpg  \n",
            "  inflating: Dataset/Dataset/train_set/with fire/with fire (22).jpg  \n",
            "  inflating: Dataset/Dataset/train_set/with fire/with fire (23).jpg  \n",
            "  inflating: Dataset/Dataset/train_set/with fire/with fire (24).jpg  \n",
            "  inflating: Dataset/Dataset/train_set/with fire/with fire (25).jpg  \n",
            "  inflating: Dataset/Dataset/train_set/with fire/with fire (26).jpg  \n",
            "  inflating: Dataset/Dataset/train_set/with fire/with fire (27).jpg  \n",
            "  inflating: Dataset/Dataset/train_set/with fire/with fire (28).jpg  \n",
            "  inflating: Dataset/Dataset/train_set/with fire/with fire (29).jpg  \n",
            "  inflating: Dataset/Dataset/train_set/with fire/with fire (3).jpeg  \n",
            "  inflating: Dataset/Dataset/train_set/with fire/with fire (3).jpg  \n",
            "  inflating: Dataset/Dataset/train_set/with fire/with fire (3).png  \n",
            "  inflating: Dataset/Dataset/train_set/with fire/with fire (30).jpg  \n",
            "  inflating: Dataset/Dataset/train_set/with fire/with fire (31).jpg  \n",
            "  inflating: Dataset/Dataset/train_set/with fire/with fire (32).jpg  \n",
            "  inflating: Dataset/Dataset/train_set/with fire/with fire (33).jpg  \n",
            "  inflating: Dataset/Dataset/train_set/with fire/with fire (34).jpg  \n",
            "  inflating: Dataset/Dataset/train_set/with fire/with fire (35).jpg  \n",
            "  inflating: Dataset/Dataset/train_set/with fire/with fire (36).jpg  \n",
            "  inflating: Dataset/Dataset/train_set/with fire/with fire (37).jpg  \n",
            "  inflating: Dataset/Dataset/train_set/with fire/with fire (38).jpg  \n",
            "  inflating: Dataset/Dataset/train_set/with fire/with fire (39).jpg  \n",
            "  inflating: Dataset/Dataset/train_set/with fire/with fire (4).jpg  \n",
            "  inflating: Dataset/Dataset/train_set/with fire/with fire (4).png  \n",
            "  inflating: Dataset/Dataset/train_set/with fire/with fire (40).jpg  \n",
            "  inflating: Dataset/Dataset/train_set/with fire/with fire (41).jpg  \n",
            "  inflating: Dataset/Dataset/train_set/with fire/with fire (42).jpg  \n",
            "  inflating: Dataset/Dataset/train_set/with fire/with fire (43).jpg  \n",
            "  inflating: Dataset/Dataset/train_set/with fire/with fire (44).jpg  \n",
            "  inflating: Dataset/Dataset/train_set/with fire/with fire (45).jpg  \n",
            "  inflating: Dataset/Dataset/train_set/with fire/with fire (46).jpg  \n",
            "  inflating: Dataset/Dataset/train_set/with fire/with fire (47).jpg  \n",
            "  inflating: Dataset/Dataset/train_set/with fire/with fire (48).jpg  \n",
            "  inflating: Dataset/Dataset/train_set/with fire/with fire (49).jpg  \n",
            "  inflating: Dataset/Dataset/train_set/with fire/with fire (5).jpg  \n",
            "  inflating: Dataset/Dataset/train_set/with fire/with fire (50).jpg  \n",
            "  inflating: Dataset/Dataset/train_set/with fire/with fire (51).jpg  \n",
            "  inflating: Dataset/Dataset/train_set/with fire/with fire (52).jpg  \n",
            "  inflating: Dataset/Dataset/train_set/with fire/with fire (53).jpg  \n",
            "  inflating: Dataset/Dataset/train_set/with fire/with fire (54).jpg  \n",
            "  inflating: Dataset/Dataset/train_set/with fire/with fire (55).jpg  \n",
            "  inflating: Dataset/Dataset/train_set/with fire/with fire (56).jpg  \n",
            "  inflating: Dataset/Dataset/train_set/with fire/with fire (57).jpg  \n",
            "  inflating: Dataset/Dataset/train_set/with fire/with fire (58).jpg  \n",
            "  inflating: Dataset/Dataset/train_set/with fire/with fire (59).jpg  \n",
            "  inflating: Dataset/Dataset/train_set/with fire/with fire (6).jpg  \n",
            "  inflating: Dataset/Dataset/train_set/with fire/with fire (60).jpg  \n",
            "  inflating: Dataset/Dataset/train_set/with fire/with fire (61).jpg  \n",
            "  inflating: Dataset/Dataset/train_set/with fire/with fire (62).jpg  \n",
            "  inflating: Dataset/Dataset/train_set/with fire/with fire (63).jpg  \n",
            "  inflating: Dataset/Dataset/train_set/with fire/with fire (64).jpg  \n",
            "  inflating: Dataset/Dataset/train_set/with fire/with fire (65).jpg  \n",
            "  inflating: Dataset/Dataset/train_set/with fire/with fire (66).jpg  \n",
            "  inflating: Dataset/Dataset/train_set/with fire/with fire (67).jpg  \n",
            "  inflating: Dataset/Dataset/train_set/with fire/with fire (68).jpg  \n",
            "  inflating: Dataset/Dataset/train_set/with fire/with fire (69).jpg  \n",
            "  inflating: Dataset/Dataset/train_set/with fire/with fire (7).jpg  \n",
            "  inflating: Dataset/Dataset/train_set/with fire/with fire (70).jpg  \n",
            "  inflating: Dataset/Dataset/train_set/with fire/with fire (71).jpg  \n",
            "  inflating: Dataset/Dataset/train_set/with fire/with fire (72).jpg  \n",
            "  inflating: Dataset/Dataset/train_set/with fire/with fire (73).jpg  \n",
            "  inflating: Dataset/Dataset/train_set/with fire/with fire (74).jpg  \n",
            "  inflating: Dataset/Dataset/train_set/with fire/with fire (75).jpg  \n",
            "  inflating: Dataset/Dataset/train_set/with fire/with fire (76).jpg  \n",
            "  inflating: Dataset/Dataset/train_set/with fire/with fire (77).jpg  \n",
            "  inflating: Dataset/Dataset/train_set/with fire/with fire (78).jpg  \n",
            "  inflating: Dataset/Dataset/train_set/with fire/with fire (79).jpg  \n",
            "  inflating: Dataset/Dataset/train_set/with fire/with fire (8).jpg  \n",
            "  inflating: Dataset/Dataset/train_set/with fire/with fire (80).jpg  \n",
            "  inflating: Dataset/Dataset/train_set/with fire/with fire (81).jpg  \n",
            "  inflating: Dataset/Dataset/train_set/with fire/with fire (82).jpg  \n",
            "  inflating: Dataset/Dataset/train_set/with fire/with fire (83).jpg  \n",
            "  inflating: Dataset/Dataset/train_set/with fire/with fire (84).jpg  \n",
            "  inflating: Dataset/Dataset/train_set/with fire/with fire (85).jpg  \n",
            "  inflating: Dataset/Dataset/train_set/with fire/with fire (86).jpg  \n",
            "  inflating: Dataset/Dataset/train_set/with fire/with fire (87).jpg  \n",
            "  inflating: Dataset/Dataset/train_set/with fire/with fire (88).jpg  \n",
            "  inflating: Dataset/Dataset/train_set/with fire/with fire (89).jpg  \n",
            "  inflating: Dataset/Dataset/train_set/with fire/with fire (9).jpg  \n",
            "  inflating: Dataset/Dataset/train_set/with fire/with fire (90).jpg  \n",
            "  inflating: Dataset/Dataset/train_set/with fire/with fire (91).jpg  \n",
            "  inflating: Dataset/Dataset/train_set/with fire/with fire (92).jpg  \n",
            "  inflating: Dataset/Dataset/train_set/with fire/with fire (93).jpg  \n",
            "  inflating: Dataset/Dataset/train_set/with fire/with fire (94).jpg  \n",
            "  inflating: Dataset/Dataset/train_set/with fire/with fire (95).jpg  \n",
            "  inflating: Dataset/Dataset/train_set/with fire/with fire (96).jpg  \n",
            "  inflating: Dataset/Dataset/train_set/with fire/with fire (97).jpg  \n",
            "  inflating: Dataset/Dataset/train_set/with fire/with fire (98).jpg  \n",
            "  inflating: Dataset/Dataset/train_set/with fire/with fire (99).jpg  \n",
            "  inflating: Dataset/Dataset/train_set/with fire/with fire.jpeg  \n",
            "  inflating: forest1.h5              \n"
          ]
        }
      ],
      "source": [
        "!unzip \"/content/drive/MyDrive/archive.zip\""
      ]
    },
    {
      "cell_type": "code",
      "source": [
        "!pip install tensorflow\n",
        "!pip install opencv-python\n",
        "!pip install opencv-contrib-python\n",
        "import tensorflow as tf\n",
        "import numpy as np\n",
        "from tensorflow import keras\n",
        "import os\n",
        "import cv2\n",
        "from tensorflow.keras.preprocessing.image import ImageDataGenerator\n",
        "from tensorflow.keras.preprocessing import image\n",
        "import matplotlib.pyplot as plt"
      ],
      "metadata": {
        "colab": {
          "base_uri": "https://localhost:8080/"
        },
        "id": "osccjfUpw0bk",
        "outputId": "a36aa1aa-f5b6-4b07-c4de-50abbabc893e"
      },
      "execution_count": 3,
      "outputs": [
        {
          "output_type": "stream",
          "name": "stdout",
          "text": [
            "Looking in indexes: https://pypi.org/simple, https://us-python.pkg.dev/colab-wheels/public/simple/\n",
            "Requirement already satisfied: tensorflow in /usr/local/lib/python3.7/dist-packages (2.9.2)\n",
            "Requirement already satisfied: opt-einsum>=2.3.2 in /usr/local/lib/python3.7/dist-packages (from tensorflow) (3.3.0)\n",
            "Requirement already satisfied: termcolor>=1.1.0 in /usr/local/lib/python3.7/dist-packages (from tensorflow) (2.1.0)\n",
            "Requirement already satisfied: protobuf<3.20,>=3.9.2 in /usr/local/lib/python3.7/dist-packages (from tensorflow) (3.19.6)\n",
            "Requirement already satisfied: astunparse>=1.6.0 in /usr/local/lib/python3.7/dist-packages (from tensorflow) (1.6.3)\n",
            "Requirement already satisfied: setuptools in /usr/local/lib/python3.7/dist-packages (from tensorflow) (57.4.0)\n",
            "Requirement already satisfied: libclang>=13.0.0 in /usr/local/lib/python3.7/dist-packages (from tensorflow) (14.0.6)\n",
            "Requirement already satisfied: absl-py>=1.0.0 in /usr/local/lib/python3.7/dist-packages (from tensorflow) (1.3.0)\n",
            "Requirement already satisfied: grpcio<2.0,>=1.24.3 in /usr/local/lib/python3.7/dist-packages (from tensorflow) (1.50.0)\n",
            "Requirement already satisfied: h5py>=2.9.0 in /usr/local/lib/python3.7/dist-packages (from tensorflow) (3.1.0)\n",
            "Requirement already satisfied: tensorboard<2.10,>=2.9 in /usr/local/lib/python3.7/dist-packages (from tensorflow) (2.9.1)\n",
            "Requirement already satisfied: gast<=0.4.0,>=0.2.1 in /usr/local/lib/python3.7/dist-packages (from tensorflow) (0.4.0)\n",
            "Requirement already satisfied: keras<2.10.0,>=2.9.0rc0 in /usr/local/lib/python3.7/dist-packages (from tensorflow) (2.9.0)\n",
            "Requirement already satisfied: typing-extensions>=3.6.6 in /usr/local/lib/python3.7/dist-packages (from tensorflow) (4.1.1)\n",
            "Requirement already satisfied: numpy>=1.20 in /usr/local/lib/python3.7/dist-packages (from tensorflow) (1.21.6)\n",
            "Requirement already satisfied: keras-preprocessing>=1.1.1 in /usr/local/lib/python3.7/dist-packages (from tensorflow) (1.1.2)\n",
            "Requirement already satisfied: tensorflow-estimator<2.10.0,>=2.9.0rc0 in /usr/local/lib/python3.7/dist-packages (from tensorflow) (2.9.0)\n",
            "Requirement already satisfied: wrapt>=1.11.0 in /usr/local/lib/python3.7/dist-packages (from tensorflow) (1.14.1)\n",
            "Requirement already satisfied: six>=1.12.0 in /usr/local/lib/python3.7/dist-packages (from tensorflow) (1.15.0)\n",
            "Requirement already satisfied: google-pasta>=0.1.1 in /usr/local/lib/python3.7/dist-packages (from tensorflow) (0.2.0)\n",
            "Requirement already satisfied: flatbuffers<2,>=1.12 in /usr/local/lib/python3.7/dist-packages (from tensorflow) (1.12)\n",
            "Requirement already satisfied: packaging in /usr/local/lib/python3.7/dist-packages (from tensorflow) (21.3)\n",
            "Requirement already satisfied: tensorflow-io-gcs-filesystem>=0.23.1 in /usr/local/lib/python3.7/dist-packages (from tensorflow) (0.27.0)\n",
            "Requirement already satisfied: wheel<1.0,>=0.23.0 in /usr/local/lib/python3.7/dist-packages (from astunparse>=1.6.0->tensorflow) (0.38.4)\n",
            "Requirement already satisfied: cached-property in /usr/local/lib/python3.7/dist-packages (from h5py>=2.9.0->tensorflow) (1.5.2)\n",
            "Requirement already satisfied: google-auth<3,>=1.6.3 in /usr/local/lib/python3.7/dist-packages (from tensorboard<2.10,>=2.9->tensorflow) (2.14.1)\n",
            "Requirement already satisfied: requests<3,>=2.21.0 in /usr/local/lib/python3.7/dist-packages (from tensorboard<2.10,>=2.9->tensorflow) (2.23.0)\n",
            "Requirement already satisfied: tensorboard-plugin-wit>=1.6.0 in /usr/local/lib/python3.7/dist-packages (from tensorboard<2.10,>=2.9->tensorflow) (1.8.1)\n",
            "Requirement already satisfied: tensorboard-data-server<0.7.0,>=0.6.0 in /usr/local/lib/python3.7/dist-packages (from tensorboard<2.10,>=2.9->tensorflow) (0.6.1)\n",
            "Requirement already satisfied: werkzeug>=1.0.1 in /usr/local/lib/python3.7/dist-packages (from tensorboard<2.10,>=2.9->tensorflow) (1.0.1)\n",
            "Requirement already satisfied: markdown>=2.6.8 in /usr/local/lib/python3.7/dist-packages (from tensorboard<2.10,>=2.9->tensorflow) (3.4.1)\n",
            "Requirement already satisfied: google-auth-oauthlib<0.5,>=0.4.1 in /usr/local/lib/python3.7/dist-packages (from tensorboard<2.10,>=2.9->tensorflow) (0.4.6)\n",
            "Requirement already satisfied: pyasn1-modules>=0.2.1 in /usr/local/lib/python3.7/dist-packages (from google-auth<3,>=1.6.3->tensorboard<2.10,>=2.9->tensorflow) (0.2.8)\n",
            "Requirement already satisfied: rsa<5,>=3.1.4 in /usr/local/lib/python3.7/dist-packages (from google-auth<3,>=1.6.3->tensorboard<2.10,>=2.9->tensorflow) (4.9)\n",
            "Requirement already satisfied: cachetools<6.0,>=2.0.0 in /usr/local/lib/python3.7/dist-packages (from google-auth<3,>=1.6.3->tensorboard<2.10,>=2.9->tensorflow) (5.2.0)\n",
            "Requirement already satisfied: requests-oauthlib>=0.7.0 in /usr/local/lib/python3.7/dist-packages (from google-auth-oauthlib<0.5,>=0.4.1->tensorboard<2.10,>=2.9->tensorflow) (1.3.1)\n",
            "Requirement already satisfied: importlib-metadata>=4.4 in /usr/local/lib/python3.7/dist-packages (from markdown>=2.6.8->tensorboard<2.10,>=2.9->tensorflow) (4.13.0)\n",
            "Requirement already satisfied: zipp>=0.5 in /usr/local/lib/python3.7/dist-packages (from importlib-metadata>=4.4->markdown>=2.6.8->tensorboard<2.10,>=2.9->tensorflow) (3.10.0)\n",
            "Requirement already satisfied: pyasn1<0.5.0,>=0.4.6 in /usr/local/lib/python3.7/dist-packages (from pyasn1-modules>=0.2.1->google-auth<3,>=1.6.3->tensorboard<2.10,>=2.9->tensorflow) (0.4.8)\n",
            "Requirement already satisfied: idna<3,>=2.5 in /usr/local/lib/python3.7/dist-packages (from requests<3,>=2.21.0->tensorboard<2.10,>=2.9->tensorflow) (2.10)\n",
            "Requirement already satisfied: urllib3!=1.25.0,!=1.25.1,<1.26,>=1.21.1 in /usr/local/lib/python3.7/dist-packages (from requests<3,>=2.21.0->tensorboard<2.10,>=2.9->tensorflow) (1.24.3)\n",
            "Requirement already satisfied: chardet<4,>=3.0.2 in /usr/local/lib/python3.7/dist-packages (from requests<3,>=2.21.0->tensorboard<2.10,>=2.9->tensorflow) (3.0.4)\n",
            "Requirement already satisfied: certifi>=2017.4.17 in /usr/local/lib/python3.7/dist-packages (from requests<3,>=2.21.0->tensorboard<2.10,>=2.9->tensorflow) (2022.9.24)\n",
            "Requirement already satisfied: oauthlib>=3.0.0 in /usr/local/lib/python3.7/dist-packages (from requests-oauthlib>=0.7.0->google-auth-oauthlib<0.5,>=0.4.1->tensorboard<2.10,>=2.9->tensorflow) (3.2.2)\n",
            "Requirement already satisfied: pyparsing!=3.0.5,>=2.0.2 in /usr/local/lib/python3.7/dist-packages (from packaging->tensorflow) (3.0.9)\n",
            "Looking in indexes: https://pypi.org/simple, https://us-python.pkg.dev/colab-wheels/public/simple/\n",
            "Requirement already satisfied: opencv-python in /usr/local/lib/python3.7/dist-packages (4.6.0.66)\n",
            "Requirement already satisfied: numpy>=1.14.5 in /usr/local/lib/python3.7/dist-packages (from opencv-python) (1.21.6)\n",
            "Looking in indexes: https://pypi.org/simple, https://us-python.pkg.dev/colab-wheels/public/simple/\n",
            "Requirement already satisfied: opencv-contrib-python in /usr/local/lib/python3.7/dist-packages (4.6.0.66)\n",
            "Requirement already satisfied: numpy>=1.14.5 in /usr/local/lib/python3.7/dist-packages (from opencv-contrib-python) (1.21.6)\n"
          ]
        }
      ]
    },
    {
      "cell_type": "code",
      "source": [
        "train = ImageDataGenerator(rescale=1/255)\n",
        "test = ImageDataGenerator(rescale=1/255)\n",
        "\n",
        "train_dataset = train.flow_from_directory(\"/content/drive/MyDrive/train_set\",\n",
        "                                          target_size=(150,150),\n",
        "                                          batch_size = 32,\n",
        "                                          class_mode = 'binary')\n",
        "\n",
        "test_dataset = test.flow_from_directory(\"/content/drive/MyDrive/test_set\",\n",
        "                                          target_size=(150,150),\n",
        "                                          batch_size =32,\n",
        "                                          class_mode = 'binary')"
      ],
      "metadata": {
        "colab": {
          "base_uri": "https://localhost:8080/"
        },
        "id": "RRIsPDOKw3Dp",
        "outputId": "126984da-9485-41c6-9f7f-70511cf884fd"
      },
      "execution_count": 4,
      "outputs": [
        {
          "output_type": "stream",
          "name": "stdout",
          "text": [
            "Found 442 images belonging to 2 classes.\n",
            "Found 121 images belonging to 2 classes.\n"
          ]
        }
      ]
    },
    {
      "cell_type": "code",
      "source": [
        "test_dataset.class_indices"
      ],
      "metadata": {
        "colab": {
          "base_uri": "https://localhost:8080/"
        },
        "id": "ZaLQECizw_oz",
        "outputId": "9f72ab39-6625-4030-c3a9-07841a4b64a5"
      },
      "execution_count": 5,
      "outputs": [
        {
          "output_type": "execute_result",
          "data": {
            "text/plain": [
              "{'forest': 0, 'with fire': 1}"
            ]
          },
          "metadata": {},
          "execution_count": 5
        }
      ]
    },
    {
      "cell_type": "code",
      "source": [
        "#To define Linear initialisation import Sequential\n",
        "from keras.models import Sequential\n",
        "#To add layers import Dense\n",
        "from keras.layers import Dense\n",
        "#To create Convolution kernel import Convolution2D\n",
        "from keras.layers import Convolution2D\n",
        "#import Maxpooling layer\n",
        "from keras.layers import MaxPooling2D\n",
        "#import flatten layer\n",
        "from keras.layers import Flatten\n",
        "import warnings\n",
        "warnings.filterwarnings('ignore')"
      ],
      "metadata": {
        "id": "3bQCtgJww_uy"
      },
      "execution_count": 6,
      "outputs": []
    },
    {
      "cell_type": "code",
      "source": [
        "model = keras.Sequential()\n",
        "model.add(keras.layers.Conv2D(32,(3,3),activation='relu',input_shape=(150,150,3)))\n",
        "model.add(keras.layers.MaxPool2D(2,2))\n",
        "model.add(keras.layers.Conv2D(64,(3,3),activation='relu'))\n",
        "model.add(keras.layers.MaxPool2D(2,2))\n",
        "model.add(keras.layers.Conv2D(128,(3,3),activation='relu'))\n",
        "model.add(keras.layers.MaxPool2D(2,2))\n",
        "model.add(keras.layers.Conv2D(128,(3,3),activation='relu'))\n",
        "model.add(keras.layers.MaxPool2D(2,2))\n",
        "model.add(keras.layers.Flatten())\n",
        "model.add(keras.layers.Dense(512,activation='relu'))\n",
        "model.add(keras.layers.Dense(1,activation='sigmoid'))"
      ],
      "metadata": {
        "id": "ky2Hd2oVxXb9"
      },
      "execution_count": 8,
      "outputs": []
    },
    {
      "cell_type": "code",
      "source": [
        "model.add(Dense(150,activation='relu'))\n",
        "model.add(Dense(1,activation='sigmoid'))"
      ],
      "metadata": {
        "id": "ffx6aTSXxNya"
      },
      "execution_count": 9,
      "outputs": []
    },
    {
      "cell_type": "code",
      "source": [
        "model.compile(loss='binary_crossentropy',optimizer=\"adam\",metrics=[\"accuracy\"])"
      ],
      "metadata": {
        "id": "3yrFYx4cwfWZ"
      },
      "execution_count": 10,
      "outputs": []
    },
    {
      "cell_type": "code",
      "source": [
        "r = model.fit(train_dataset,epochs = 10,validation_data = test_dataset)"
      ],
      "metadata": {
        "colab": {
          "base_uri": "https://localhost:8080/"
        },
        "id": "G1aU6euCxeZL",
        "outputId": "34531417-0170-46c8-b7d7-1750d07ed456"
      },
      "execution_count": 11,
      "outputs": [
        {
          "output_type": "stream",
          "name": "stdout",
          "text": [
            "Epoch 1/10\n",
            "14/14 [==============================] - 168s 12s/step - loss: 0.6634 - accuracy: 0.6357 - val_loss: 0.6754 - val_accuracy: 0.5950\n",
            "Epoch 2/10\n",
            "14/14 [==============================] - 24s 2s/step - loss: 0.6571 - accuracy: 0.6357 - val_loss: 0.6804 - val_accuracy: 0.5950\n",
            "Epoch 3/10\n",
            "14/14 [==============================] - 24s 2s/step - loss: 0.6562 - accuracy: 0.6357 - val_loss: 0.6801 - val_accuracy: 0.5950\n",
            "Epoch 4/10\n",
            "14/14 [==============================] - 24s 2s/step - loss: 0.6563 - accuracy: 0.6357 - val_loss: 0.6787 - val_accuracy: 0.5950\n",
            "Epoch 5/10\n",
            "14/14 [==============================] - 24s 2s/step - loss: 0.6561 - accuracy: 0.6357 - val_loss: 0.6790 - val_accuracy: 0.5950\n",
            "Epoch 6/10\n",
            "14/14 [==============================] - 26s 2s/step - loss: 0.6559 - accuracy: 0.6357 - val_loss: 0.6783 - val_accuracy: 0.5950\n",
            "Epoch 7/10\n",
            "14/14 [==============================] - 24s 2s/step - loss: 0.6563 - accuracy: 0.6357 - val_loss: 0.6790 - val_accuracy: 0.5950\n",
            "Epoch 8/10\n",
            "14/14 [==============================] - 25s 2s/step - loss: 0.6563 - accuracy: 0.6357 - val_loss: 0.6792 - val_accuracy: 0.5950\n",
            "Epoch 9/10\n",
            "14/14 [==============================] - 24s 2s/step - loss: 0.6569 - accuracy: 0.6357 - val_loss: 0.6766 - val_accuracy: 0.5950\n",
            "Epoch 10/10\n",
            "14/14 [==============================] - 24s 2s/step - loss: 0.6561 - accuracy: 0.6357 - val_loss: 0.6776 - val_accuracy: 0.5950\n"
          ]
        }
      ]
    },
    {
      "cell_type": "code",
      "source": [
        "predictions = model.predict(test_dataset)\n",
        "predictions = np.round(predictions)"
      ],
      "metadata": {
        "colab": {
          "base_uri": "https://localhost:8080/"
        },
        "id": "3SLUu6jkxg1m",
        "outputId": "0e68c2d0-e042-4f48-d0c6-c00f4dd5eaa2"
      },
      "execution_count": 12,
      "outputs": [
        {
          "output_type": "stream",
          "name": "stdout",
          "text": [
            "4/4 [==============================] - 5s 1s/step\n"
          ]
        }
      ]
    },
    {
      "cell_type": "code",
      "source": [
        "predictions"
      ],
      "metadata": {
        "colab": {
          "base_uri": "https://localhost:8080/"
        },
        "id": "FJuiN3WtzqyS",
        "outputId": "13004f35-b98b-4205-8eb0-39218f324ffe"
      },
      "execution_count": 13,
      "outputs": [
        {
          "output_type": "execute_result",
          "data": {
            "text/plain": [
              "array([[0.],\n",
              "       [0.],\n",
              "       [0.],\n",
              "       [0.],\n",
              "       [0.],\n",
              "       [0.],\n",
              "       [0.],\n",
              "       [0.],\n",
              "       [0.],\n",
              "       [0.],\n",
              "       [0.],\n",
              "       [0.],\n",
              "       [0.],\n",
              "       [0.],\n",
              "       [0.],\n",
              "       [0.],\n",
              "       [0.],\n",
              "       [0.],\n",
              "       [0.],\n",
              "       [0.],\n",
              "       [0.],\n",
              "       [0.],\n",
              "       [0.],\n",
              "       [0.],\n",
              "       [0.],\n",
              "       [0.],\n",
              "       [0.],\n",
              "       [0.],\n",
              "       [0.],\n",
              "       [0.],\n",
              "       [0.],\n",
              "       [0.],\n",
              "       [0.],\n",
              "       [0.],\n",
              "       [0.],\n",
              "       [0.],\n",
              "       [0.],\n",
              "       [0.],\n",
              "       [0.],\n",
              "       [0.],\n",
              "       [0.],\n",
              "       [0.],\n",
              "       [0.],\n",
              "       [0.],\n",
              "       [0.],\n",
              "       [0.],\n",
              "       [0.],\n",
              "       [0.],\n",
              "       [0.],\n",
              "       [0.],\n",
              "       [0.],\n",
              "       [0.],\n",
              "       [0.],\n",
              "       [0.],\n",
              "       [0.],\n",
              "       [0.],\n",
              "       [0.],\n",
              "       [0.],\n",
              "       [0.],\n",
              "       [0.],\n",
              "       [0.],\n",
              "       [0.],\n",
              "       [0.],\n",
              "       [0.],\n",
              "       [0.],\n",
              "       [0.],\n",
              "       [0.],\n",
              "       [0.],\n",
              "       [0.],\n",
              "       [0.],\n",
              "       [0.],\n",
              "       [0.],\n",
              "       [0.],\n",
              "       [0.],\n",
              "       [0.],\n",
              "       [0.],\n",
              "       [0.],\n",
              "       [0.],\n",
              "       [0.],\n",
              "       [0.],\n",
              "       [0.],\n",
              "       [0.],\n",
              "       [0.],\n",
              "       [0.],\n",
              "       [0.],\n",
              "       [0.],\n",
              "       [0.],\n",
              "       [0.],\n",
              "       [0.],\n",
              "       [0.],\n",
              "       [0.],\n",
              "       [0.],\n",
              "       [0.],\n",
              "       [0.],\n",
              "       [0.],\n",
              "       [0.],\n",
              "       [0.],\n",
              "       [0.],\n",
              "       [0.],\n",
              "       [0.],\n",
              "       [0.],\n",
              "       [0.],\n",
              "       [0.],\n",
              "       [0.],\n",
              "       [0.],\n",
              "       [0.],\n",
              "       [0.],\n",
              "       [0.],\n",
              "       [0.],\n",
              "       [0.],\n",
              "       [0.],\n",
              "       [0.],\n",
              "       [0.],\n",
              "       [0.],\n",
              "       [0.],\n",
              "       [0.],\n",
              "       [0.],\n",
              "       [0.],\n",
              "       [0.],\n",
              "       [0.],\n",
              "       [0.]], dtype=float32)"
            ]
          },
          "metadata": {},
          "execution_count": 13
        }
      ]
    },
    {
      "cell_type": "code",
      "source": [
        "print(len(predictions))"
      ],
      "metadata": {
        "colab": {
          "base_uri": "https://localhost:8080/"
        },
        "id": "1vOPVM5Wzq8I",
        "outputId": "79dff1bb-319b-471a-dd82-df498b5b9fd6"
      },
      "execution_count": 14,
      "outputs": [
        {
          "output_type": "stream",
          "name": "stdout",
          "text": [
            "121\n"
          ]
        }
      ]
    },
    {
      "cell_type": "code",
      "source": [
        "model.save(\"forest2.h5\")"
      ],
      "metadata": {
        "id": "YtigT9QCzv-e"
      },
      "execution_count": 15,
      "outputs": []
    },
    {
      "cell_type": "code",
      "source": [
        "#import load_model from keras.model\n",
        "from keras.models import load_model\n",
        "#import image class from keras\n",
        "import tensorflow as tf\n",
        "from tensorflow.keras.preprocessing import image\n",
        "#import numpy\n",
        "import numpy as np\n",
        "#import cv2\n",
        "import cv2"
      ],
      "metadata": {
        "id": "BRm6lcpezygN"
      },
      "execution_count": 16,
      "outputs": []
    },
    {
      "cell_type": "code",
      "source": [
        "model = load_model(\"forest2.h5\")"
      ],
      "metadata": {
        "id": "RVZqh6-Fz0nR"
      },
      "execution_count": 17,
      "outputs": []
    },
    {
      "cell_type": "code",
      "source": [
        "def predictImage(filename):\n",
        "    img1 = image.load_img(filename,target_size=(150,150))\n",
        "    plt.imshow(img1)\n",
        "    Y = image.img_to_array(img1)\n",
        "    X = np.expand_dims(Y,axis=0)\n",
        "    val = model.predict(X)\n",
        "    print(val)\n",
        "    if val == 1:\n",
        "        plt.xlabel(\"Fire\")\n",
        "    elif val == 0:\n",
        "        plt.xlabel(\"No Fire\")"
      ],
      "metadata": {
        "id": "cPHSIVaSz4CN"
      },
      "execution_count": 18,
      "outputs": []
    },
    {
      "cell_type": "code",
      "source": [
        "predictImage(\"/content/drive/MyDrive/test_set/with fire/Fire_2_696x392.jpg\")"
      ],
      "metadata": {
        "colab": {
          "base_uri": "https://localhost:8080/",
          "height": 304
        },
        "id": "oCh300a3z7q8",
        "outputId": "e815e3fc-ee0d-4e3e-ff7c-d98072453562"
      },
      "execution_count": 19,
      "outputs": [
        {
          "output_type": "stream",
          "name": "stdout",
          "text": [
            "1/1 [==============================] - 0s 104ms/step\n",
            "[[0.36999676]]\n"
          ]
        },
        {
          "output_type": "display_data",
          "data": {
            "text/plain": [
              "<Figure size 432x288 with 1 Axes>"
            ],
            "image/png": "[encoded data removed]"
          },
          "metadata": {
            "needs_background": "light"
          }
        }
      ]
    },
    {
      "cell_type": "code",
      "source": [
        "pip install twilio"
      ],
      "metadata": {
        "colab": {
          "base_uri": "https://localhost:8080/"
        },
        "id": "PQ2ytuvO0A1r",
        "outputId": "56588c87-31d3-4edb-ec36-44c15d43e5fd"
      },
      "execution_count": 20,
      "outputs": [
        {
          "output_type": "stream",
          "name": "stdout",
          "text": [
            "Looking in indexes: https://pypi.org/simple, https://us-python.pkg.dev/colab-wheels/public/simple/\n",
            "Collecting twilio\n",
            "  Downloading twilio-7.15.3-py2.py3-none-any.whl (1.4 MB)\n",
            "\u001b[K     |████████████████████████████████| 1.4 MB 7.5 MB/s \n",
            "\u001b[?25hRequirement already satisfied: requests>=2.0.0 in /usr/local/lib/python3.7/dist-packages (from twilio) (2.23.0)\n",
            "Collecting PyJWT<3.0.0,>=2.0.0\n",
            "  Downloading PyJWT-2.6.0-py3-none-any.whl (20 kB)\n",
            "Requirement already satisfied: pytz in /usr/local/lib/python3.7/dist-packages (from twilio) (2022.6)\n",
            "Requirement already satisfied: idna<3,>=2.5 in /usr/local/lib/python3.7/dist-packages (from requests>=2.0.0->twilio) (2.10)\n",
            "Requirement already satisfied: chardet<4,>=3.0.2 in /usr/local/lib/python3.7/dist-packages (from requests>=2.0.0->twilio) (3.0.4)\n",
            "Requirement already satisfied: certifi>=2017.4.17 in /usr/local/lib/python3.7/dist-packages (from requests>=2.0.0->twilio) (2022.9.24)\n",
            "Requirement already satisfied: urllib3!=1.25.0,!=1.25.1,<1.26,>=1.21.1 in /usr/local/lib/python3.7/dist-packages (from requests>=2.0.0->twilio) (1.24.3)\n",
            "Installing collected packages: PyJWT, twilio\n",
            "Successfully installed PyJWT-2.6.0 twilio-7.15.3\n"
          ]
        }
      ]
    },
    {
      "cell_type": "code",
      "source": [
        "pip install playsound"
      ],
      "metadata": {
        "colab": {
          "base_uri": "https://localhost:8080/"
        },
        "id": "7khU_BhW0FTO",
        "outputId": "e1c37708-7493-4067-d58a-51a08d946591"
      },
      "execution_count": 21,
      "outputs": [
        {
          "output_type": "stream",
          "name": "stdout",
          "text": [
            "Looking in indexes: https://pypi.org/simple, https://us-python.pkg.dev/colab-wheels/public/simple/\n",
            "Collecting playsound\n",
            "  Downloading playsound-1.3.0.tar.gz (7.7 kB)\n",
            "Building wheels for collected packages: playsound\n",
            "  Building wheel for playsound (setup.py) ... \u001b[?25l\u001b[?25hdone\n",
            "  Created wheel for playsound: filename=playsound-1.3.0-py3-none-any.whl size=7038 sha256=e5419b98d6b101bdde0b46ba976e5476a488d4f41381a09ab4f6373a07c59b8d\n",
            "  Stored in directory: /root/.cache/pip/wheels/ba/f8/bb/ea57c0146b664dca3a0ada4199b0ecb5f9dfcb7b7e22b65ba2\n",
            "Successfully built playsound\n",
            "Installing collected packages: playsound\n",
            "Successfully installed playsound-1.3.0\n"
          ]
        }
      ]
    },
    {
      "cell_type": "code",
      "source": [
        "#import opencv librariy\n",
        "import cv2\n",
        "#import numpy\n",
        "import numpy as np\n",
        "#import image function from keras\n",
        "from keras.preprocessing import image\n",
        "#import load_model from keras\n",
        "from keras.models import load_model\n",
        "#import client from twilio API\n",
        "from twilio.rest import Client\n",
        "#imort playsound package\n",
        "from playsound import playsound"
      ],
      "metadata": {
        "colab": {
          "base_uri": "https://localhost:8080/"
        },
        "id": "EhwtyviJ0JDs",
        "outputId": "caeb0a11-38b0-4e1d-e4e9-b9fa90fd745d"
      },
      "execution_count": 22,
      "outputs": [
        {
          "output_type": "stream",
          "name": "stderr",
          "text": [
            "WARNING:playsound:playsound is relying on another python subprocess. Please use `pip install pygobject` if you want playsound to run more efficiently.\n"
          ]
        }
      ]
    },
    {
      "cell_type": "code",
      "source": [
        "#load the saved model\n",
        "model = load_model(r'forest2.h5')\n",
        "#define video\n",
        "video = cv2.VideoCapture('/content/drive/MyDrive/FOREST  FIRE (1).mp4')\n",
        "#define the features\n",
        "name = ['forest','with forest']"
      ],
      "metadata": {
        "id": "0kqnKOxb0OAE"
      },
      "execution_count": 24,
      "outputs": []
    },
    {
      "cell_type": "code",
      "source": [
        "account_sid = 'AC4c9a105651d0150d1b85af1bd4cf090c'\n",
        "auth_token = 'd18b90389f18b6069775b89c5c10ca1f'\n",
        "client = Client(account_sid, auth_token)\n",
        "\n",
        "message = client.messages \\\n",
        "    .create(\n",
        "         body='Forest fire is detected , stay alert',\n",
        "         from_='+15134660214',\n",
        "      #to number\n",
        "      to='+919361632961')\n",
        "     \n",
        "\n",
        "print(message.sid)"
      ],
      "metadata": {
        "colab": {
          "base_uri": "https://localhost:8080/"
        },
        "id": "4VCZkhqs00Yi",
        "outputId": "741240de-64c1-4d99-a425-33ec3c0f7c76"
      },
      "execution_count": 26,
      "outputs": [
        {
          "output_type": "stream",
          "name": "stdout",
          "text": [
            "SMf8b42e5b67e4d62cba4e9a22af06534d\n"
          ]
        }
      ]
    }
  ]
}