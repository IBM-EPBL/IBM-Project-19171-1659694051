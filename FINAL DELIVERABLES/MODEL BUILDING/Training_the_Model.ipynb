{
  "nbformat": 4,
  "nbformat_minor": 0,
  "metadata": {
    "colab": {
      "provenance": []
    },
    "kernelspec": {
      "name": "python3",
      "display_name": "Python 3"
    },
    "language_info": {
      "name": "python"
    }
  },
  "cells": [
    {
      "cell_type": "code",
      "source": [
        "import keras\n",
        "from keras.preprocessing.image import ImageDataGenerator"
      ],
      "metadata": {
        "id": "ybWdoVjUH_gl"
      },
      "execution_count": 5,
      "outputs": []
    },
    {
      "cell_type": "code",
      "source": [
        "#Define the parameters/arguments for ImageDataGenerator class\n",
        "train_datagen=ImageDataGenerator(rescale=1./255,shear_range=0.2,rotation_range=180,zoom_range=0.2,horizontal_flip=True)\n",
        "\n",
        "test_datagen=ImageDataGenerator(rescale=1./255)"
      ],
      "metadata": {
        "id": "RI-B_8NFIO42"
      },
      "execution_count": 6,
      "outputs": []
    },
    {
      "cell_type": "code",
      "source": [
        "#Applying ImageDataGenerator functionality to trainset\n",
        "x_train=train_datagen.flow_from_directory('/content/drive/MyDrive/train_set',target_size=(128,128),batch_size=32,class_mode='binary')\n",
        "#Applying ImageDataGenerator functionality to testset\n",
        "x_test=test_datagen.flow_from_directory('/content/drive/MyDrive/test_set',target_size=(128,128),batch_size=32,class_mode='binary')"
      ],
      "metadata": {
        "colab": {
          "base_uri": "https://localhost:8080/"
        },
        "id": "gI8HDiWvIoge",
        "outputId": "554332e2-f03a-4223-b9ed-caf2aa5f53af"
      },
      "execution_count": 8,
      "outputs": [
        {
          "output_type": "stream",
          "name": "stdout",
          "text": [
            "Found 436 images belonging to 2 classes.\n",
            "Found 121 images belonging to 2 classes.\n"
          ]
        }
      ]
    },
    {
      "cell_type": "code",
      "source": [
        "#import model building libraries\n",
        "\n",
        "#To define Linear initialisation import Sequential\n",
        "from keras.models import Sequential\n",
        "#To add layers import Dense\n",
        "from keras.layers import Dense\n",
        "#To create Convolution kernel import Convolution2D\n",
        "from keras.layers import Convolution2D\n",
        "#import Maxpooling layer\n",
        "from keras.layers import MaxPooling2D\n",
        "#import flatten layer\n",
        "from keras.layers import Flatten\n",
        "import warnings\n",
        "warnings.filterwarnings('ignore')"
      ],
      "metadata": {
        "id": "-gqzJXWNI9yX"
      },
      "execution_count": 9,
      "outputs": []
    },
    {
      "cell_type": "code",
      "source": [
        "#initializing the model\n",
        "model=Sequential()"
      ],
      "metadata": {
        "id": "3jDeeMl8JUNh"
      },
      "execution_count": 10,
      "outputs": []
    },
    {
      "cell_type": "code",
      "source": [
        "#add convolutional layer\n",
        "model.add(Convolution2D(32,(3,3),input_shape=(128,128,3),activation='relu'))\n",
        "#add maxpooling layer\n",
        "model.add(MaxPooling2D(pool_size=(2,2)))\n",
        "#add flatten layer \n",
        "model.add(Flatten())"
      ],
      "metadata": {
        "id": "OFRNW0dKJpVd"
      },
      "execution_count": 11,
      "outputs": []
    },
    {
      "cell_type": "code",
      "source": [
        "#configure the learning process\n",
        "model.compile(loss='binary_crossentropy',optimizer=\"adam\",metrics=[\"accuracy\"])"
      ],
      "metadata": {
        "id": "LhNCuAlHJyiy"
      },
      "execution_count": 12,
      "outputs": []
    },
    {
      "cell_type": "code",
      "source": [
        "#Training the model\n",
        "model.fit_generator(x_train,steps_per_epoch=14,epochs=10,validation_data=x_test,validation_steps=4)"
      ],
      "metadata": {
        "colab": {
          "base_uri": "https://localhost:8080/"
        },
        "id": "gM0guf_DKAm4",
        "outputId": "403b2ab1-db42-4ae3-b282-6a4c0c8730c0"
      },
      "execution_count": 13,
      "outputs": [
        {
          "output_type": "stream",
          "name": "stdout",
          "text": [
            "Epoch 1/10\n",
            "14/14 [==============================] - 145s 10s/step - loss: 2.5176 - accuracy: 0.0000e+00 - val_loss: 2.2090 - val_accuracy: 0.0000e+00\n",
            "Epoch 2/10\n",
            "14/14 [==============================] - 26s 2s/step - loss: 1.6059 - accuracy: 0.0000e+00 - val_loss: 1.4084 - val_accuracy: 0.0000e+00\n",
            "Epoch 3/10\n",
            "14/14 [==============================] - 25s 2s/step - loss: 0.9886 - accuracy: 0.0000e+00 - val_loss: 0.9450 - val_accuracy: 0.0000e+00\n",
            "Epoch 4/10\n",
            "14/14 [==============================] - 25s 2s/step - loss: 0.7971 - accuracy: 0.0000e+00 - val_loss: 0.8803 - val_accuracy: 0.0000e+00\n",
            "Epoch 5/10\n",
            "14/14 [==============================] - 26s 2s/step - loss: 0.7707 - accuracy: 0.0000e+00 - val_loss: 0.8608 - val_accuracy: 0.0000e+00\n",
            "Epoch 6/10\n",
            "14/14 [==============================] - 24s 2s/step - loss: 0.7605 - accuracy: 0.0000e+00 - val_loss: 0.8465 - val_accuracy: 0.0000e+00\n",
            "Epoch 7/10\n",
            "14/14 [==============================] - 26s 2s/step - loss: 0.7545 - accuracy: 0.0000e+00 - val_loss: 0.8343 - val_accuracy: 0.0000e+00\n",
            "Epoch 8/10\n",
            "14/14 [==============================] - 25s 2s/step - loss: 0.7446 - accuracy: 0.0000e+00 - val_loss: 0.8238 - val_accuracy: 0.0000e+00\n",
            "Epoch 9/10\n",
            "14/14 [==============================] - 26s 2s/step - loss: 0.7402 - accuracy: 0.0000e+00 - val_loss: 0.8143 - val_accuracy: 0.0000e+00\n",
            "Epoch 10/10\n",
            "14/14 [==============================] - 24s 2s/step - loss: 0.7312 - accuracy: 0.0000e+00 - val_loss: 0.8054 - val_accuracy: 0.0000e+00\n"
          ]
        },
        {
          "output_type": "execute_result",
          "data": {
            "text/plain": [
              "<keras.callbacks.History at 0x7fc47363d890>"
            ]
          },
          "metadata": {},
          "execution_count": 13
        }
      ]
    }
  ]
}