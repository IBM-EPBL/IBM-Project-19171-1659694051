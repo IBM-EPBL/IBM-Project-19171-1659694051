{
  "nbformat": 4,
  "nbformat_minor": 0,
  "metadata": {
    "colab": {
      "provenance": []
    },
    "kernelspec": {
      "name": "python3",
      "display_name": "Python 3"
    },
    "language_info": {
      "name": "python"
    }
  },
  "cells": [
    {
      "cell_type": "code",
      "execution_count": 1,
      "metadata": {
        "colab": {
          "base_uri": "https://localhost:8080/"
        },
        "id": "h1nNj8F4_xAJ",
        "outputId": "01ec30ae-1d0d-437b-952c-dce66ec7027e"
      },
      "outputs": [
        {
          "output_type": "stream",
          "name": "stdout",
          "text": [
            "Mounted at /content/drive\n"
          ]
        }
      ],
      "source": [
        "from google.colab import drive\n",
        "drive.mount('/content/drive')"
      ]
    },
    {
      "cell_type": "code",
      "source": [
        "import keras\n",
        "from keras.preprocessing.image import ImageDataGenerator"
      ],
      "metadata": {
        "id": "yegTshmnAE68"
      },
      "execution_count": 2,
      "outputs": []
    },
    {
      "cell_type": "code",
      "source": [
        "#Define the parameters/arguments for ImageDataGenerator class\n",
        "train_datagen=ImageDataGenerator(rescale=1./255,shear_range=0.2,rotation_range=180,zoom_range=0.2,horizontal_flip=True)\n",
        "\n",
        "test_datagen=ImageDataGenerator(rescale=1./255)"
      ],
      "metadata": {
        "id": "PPJNci3tATGs"
      },
      "execution_count": 3,
      "outputs": []
    },
    {
      "cell_type": "code",
      "source": [
        "#Applying ImageDataGenerator functionality to trainset\n",
        "x_train=train_datagen.flow_from_directory('/content/drive/MyDrive/train_set',target_size=(128,128),batch_size=32,class_mode='binary')\n",
        "#Applying ImageDataGenerator functionality to testset\n",
        "x_test=test_datagen.flow_from_directory('/content/drive/MyDrive/test_set',target_size=(128,128),batch_size=32,class_mode='binary')"
      ],
      "metadata": {
        "colab": {
          "base_uri": "https://localhost:8080/"
        },
        "id": "Wn521Qy5AXY-",
        "outputId": "b5823279-3baf-43c0-80ef-a6adeeda68f1"
      },
      "execution_count": 4,
      "outputs": [
        {
          "output_type": "stream",
          "name": "stdout",
          "text": [
            "Found 442 images belonging to 2 classes.\n",
            "Found 121 images belonging to 2 classes.\n"
          ]
        }
      ]
    },
    {
      "cell_type": "code",
      "source": [
        "#import model building libraries\n",
        "\n",
        "#To define Linear initialisation import Sequential\n",
        "from keras.models import Sequential\n",
        "#To add layers import Dense\n",
        "from keras.layers import Dense\n",
        "#To create Convolution kernel import Convolution2D\n",
        "from keras.layers import Convolution2D\n",
        "#import Maxpooling layer\n",
        "from keras.layers import MaxPooling2D\n",
        "#import flatten layer\n",
        "from keras.layers import Flatten\n",
        "import warnings\n",
        "warnings.filterwarnings('ignore')"
      ],
      "metadata": {
        "id": "cOyCZyLwAex4"
      },
      "execution_count": 5,
      "outputs": []
    },
    {
      "cell_type": "code",
      "source": [
        "#initializing the model\n",
        "model=Sequential()"
      ],
      "metadata": {
        "id": "8XHRRGlPAicw"
      },
      "execution_count": 6,
      "outputs": []
    },
    {
      "cell_type": "code",
      "source": [
        "#add convolutional layer\n",
        "model.add(Convolution2D(32,(3,3),input_shape=(128,128,3),activation='relu'))\n",
        "#add maxpooling layer\n",
        "model.add(MaxPooling2D(pool_size=(2,2)))\n",
        "#add flatten layer \n",
        "model.add(Flatten())"
      ],
      "metadata": {
        "id": "4XPLJ_GJAsEs"
      },
      "execution_count": 7,
      "outputs": []
    },
    {
      "cell_type": "code",
      "source": [
        "#configure the learning process\n",
        "model.compile(loss='binary_crossentropy',optimizer=\"adam\",metrics=[\"accuracy\"])"
      ],
      "metadata": {
        "id": "o_LADrrEAu5v"
      },
      "execution_count": 8,
      "outputs": []
    },
    {
      "cell_type": "code",
      "source": [
        "#Training the model\n",
        "model.fit_generator(x_train,steps_per_epoch=14,epochs=10,validation_data=x_test,validation_steps=4)"
      ],
      "metadata": {
        "colab": {
          "base_uri": "https://localhost:8080/"
        },
        "id": "HZIFJcnEAyuq",
        "outputId": "b4ab686b-7c37-4ee1-d3ac-6fec90b3dc93"
      },
      "execution_count": 11,
      "outputs": [
        {
          "output_type": "stream",
          "name": "stdout",
          "text": [
            "Epoch 1/10\n",
            "14/14 [==============================] - 27s 2s/step - loss: 0.7560 - accuracy: 0.0000e+00 - val_loss: 0.8258 - val_accuracy: 0.0000e+00\n",
            "Epoch 2/10\n",
            "14/14 [==============================] - 27s 2s/step - loss: 0.7491 - accuracy: 0.0000e+00 - val_loss: 0.8184 - val_accuracy: 0.0000e+00\n",
            "Epoch 3/10\n",
            "14/14 [==============================] - 26s 2s/step - loss: 0.7449 - accuracy: 0.0000e+00 - val_loss: 0.8114 - val_accuracy: 0.0000e+00\n",
            "Epoch 4/10\n",
            "14/14 [==============================] - 28s 2s/step - loss: 0.7404 - accuracy: 0.0000e+00 - val_loss: 0.8048 - val_accuracy: 0.0000e+00\n",
            "Epoch 5/10\n",
            "14/14 [==============================] - 27s 2s/step - loss: 0.7370 - accuracy: 0.0000e+00 - val_loss: 0.7987 - val_accuracy: 0.0000e+00\n",
            "Epoch 6/10\n",
            "14/14 [==============================] - 25s 2s/step - loss: 0.7332 - accuracy: 0.0000e+00 - val_loss: 0.7930 - val_accuracy: 0.0000e+00\n",
            "Epoch 7/10\n",
            "14/14 [==============================] - 26s 2s/step - loss: 0.7297 - accuracy: 0.0000e+00 - val_loss: 0.7872 - val_accuracy: 0.0000e+00\n",
            "Epoch 8/10\n",
            "14/14 [==============================] - 25s 2s/step - loss: 0.7245 - accuracy: 0.0000e+00 - val_loss: 0.7819 - val_accuracy: 0.0000e+00\n",
            "Epoch 9/10\n",
            "14/14 [==============================] - 27s 2s/step - loss: 0.7213 - accuracy: 0.0000e+00 - val_loss: 0.7768 - val_accuracy: 0.0000e+00\n",
            "Epoch 10/10\n",
            "14/14 [==============================] - 25s 2s/step - loss: 0.7170 - accuracy: 0.0000e+00 - val_loss: 0.7719 - val_accuracy: 0.0000e+00\n"
          ]
        },
        {
          "output_type": "execute_result",
          "data": {
            "text/plain": [
              "<keras.callbacks.History at 0x7f0415abe6d0>"
            ]
          },
          "metadata": {},
          "execution_count": 11
        }
      ]
    },
    {
      "cell_type": "code",
      "source": [
        "model.save(\"forest1.h5\")"
      ],
      "metadata": {
        "id": "2o63KHiDA1ZU"
      },
      "execution_count": 10,
      "outputs": []
    },
    {
      "cell_type": "code",
      "source": [
        "#import load_model from keras.model\n",
        "from keras.models import load_model\n",
        "#import image class from keras\n",
        "from tensorflow.keras.preprocessing import image\n",
        "#import numpy\n",
        "import numpy as np\n",
        "#import cv2\n",
        "import cv2"
      ],
      "metadata": {
        "id": "uC-vSNa_Cggf"
      },
      "execution_count": 12,
      "outputs": []
    },
    {
      "cell_type": "code",
      "source": [
        "#load the saved model\n",
        "from keras.models import load_model\n",
        "model = load_model(\"forest1.h5\")"
      ],
      "metadata": {
        "id": "08t_1dv4D5aF"
      },
      "execution_count": 13,
      "outputs": []
    },
    {
      "cell_type": "code",
      "source": [
        "img=image.load_img('/content/drive/MyDrive/test_set/with fire/180802_CarrFire_010_large_700x467.jpg')\n",
        "x=image.img_to_array(img)\n",
        "res = cv2.resize(x, dsize=(128, 128), interpolation=cv2.INTER_CUBIC)\n",
        "#expand the image shape\n",
        "x=np.expand_dims(res,axis=0)"
      ],
      "metadata": {
        "id": "CcchHYFyD-zt"
      },
      "execution_count": 18,
      "outputs": []
    },
    {
      "cell_type": "code",
      "source": [
        "pred=model.predict(x)"
      ],
      "metadata": {
        "colab": {
          "base_uri": "https://localhost:8080/"
        },
        "id": "ibsmQC8KEOKz",
        "outputId": "5263d586-5adb-418d-c863-4deafb249ac7"
      },
      "execution_count": 19,
      "outputs": [
        {
          "output_type": "stream",
          "name": "stdout",
          "text": [
            "1/1 [==============================] - 0s 98ms/step\n"
          ]
        }
      ]
    },
    {
      "cell_type": "code",
      "source": [
        "pred"
      ],
      "metadata": {
        "colab": {
          "base_uri": "https://localhost:8080/"
        },
        "id": "2bJBky4fEWKv",
        "outputId": "55eaa22e-c3ce-40d8-af14-648031b3a4db"
      },
      "execution_count": 20,
      "outputs": [
        {
          "output_type": "execute_result",
          "data": {
            "text/plain": [
              "array([[ 8.278606 ,  4.4501815,  3.2432158, ..., 12.545328 , 15.574282 ,\n",
              "        12.298525 ]], dtype=float32)"
            ]
          },
          "metadata": {},
          "execution_count": 20
        }
      ]
    }
  ]
}